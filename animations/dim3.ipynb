{
 "cells": [
  {
   "cell_type": "code",
   "execution_count": 1,
   "metadata": {},
   "outputs": [
    {
     "data": {
      "text/html": [
       "<pre style=\"white-space:pre;overflow-x:auto;line-height:normal;font-family:Menlo,'DejaVu Sans Mono',consolas,'Courier New',monospace\">Manim Community <span style=\"color: #008000; text-decoration-color: #008000\">v0.17.3</span>\n",
       "\n",
       "</pre>\n"
      ],
      "text/plain": [
       "Manim Community \u001b[32mv0.\u001b[0m\u001b[32m17.3\u001b[0m\n",
       "\n"
      ]
     },
     "metadata": {},
     "output_type": "display_data"
    }
   ],
   "source": [
    "from manim import *"
   ]
  },
  {
   "cell_type": "code",
   "execution_count": 2,
   "metadata": {},
   "outputs": [],
   "source": [
    "import numpy as np\n",
    "from simple_transforms import dim3, dim2"
   ]
  },
  {
   "cell_type": "markdown",
   "metadata": {},
   "source": [
    "## Figures for transformations"
   ]
  },
  {
   "cell_type": "markdown",
   "metadata": {},
   "source": [
    "The main task here will be coming up with animations using MANIM that clearly demonstrate the effects of the transformation matrices created by the simple-transform python package. The main tool will be to use the `Homotopy` animation routine for MObjects. It works\n",
    "by creating a homotopy function `h` that maps a 3-point point to another point as a function of t. at t=0, the function should be the identity, and at t=1, the full function should be applied. The homotopy `h` function is then used in an MANIM scene to manipulate MObjects through an animation. Below is an example for creating and using a homotopy function for a translation.\n",
    "\n",
    "```python\n",
    "def h(x,y,z,t):\n",
    "    dx = np.array([1,1,1])\n",
    "    tr = dim3.trans(t*dx)\n",
    "    xp, yp, zp = dim3.apply(tr, [x,y,z])\n",
    "    return (xp, yp, zp)\n",
    "\n",
    "MyScene(ThreeDScene):\n",
    "    def construct(self):\n",
    "        ...\n",
    "        self.play(Homotopy(h, mobjs))\n",
    "        ...    \n",
    "\n",
    "```"
   ]
  },
  {
   "cell_type": "markdown",
   "metadata": {},
   "source": [
    "### Translation"
   ]
  },
  {
   "cell_type": "code",
   "execution_count": 4,
   "metadata": {},
   "outputs": [
    {
     "name": "stderr",
     "output_type": "stream",
     "text": [
      "                                                                                              \r"
     ]
    },
    {
     "data": {
      "text/html": [
       "<video src=\"media\\jupyter\\Translate3D@2023-09-16@11-49-14.mp4\" controls autoplay loop style=\"max-width: 60%;\"  >\n",
       "      Your browser does not support the <code>video</code> element.\n",
       "    </video>"
      ],
      "text/plain": [
       "<IPython.core.display.Video object>"
      ]
     },
     "metadata": {},
     "output_type": "display_data"
    }
   ],
   "source": [
    "%%manim -ql -v WARNING Translate3D\n",
    "\n",
    "def homotopy(x,y,z,t):\n",
    "    d = np.array([-1,4,2])\n",
    "    tr = dim3.trans(t*d)\n",
    "    xp, yp, zp = dim3.apply(tr, [x,y,z])\n",
    "    return (xp, yp, zp)\n",
    "\n",
    "class Translate3D(ThreeDScene):\n",
    "    def construct(self):\n",
    "        self.set_camera_orientation(phi=75*DEGREES, theta=-15*DEGREES)\n",
    "        axes = ThreeDAxes()\n",
    "        X, Y, Z = RIGHT, UP, OUT\n",
    "        code = Code(\n",
    "            code=\"dim3.trans(d)\", \n",
    "            language='Python', \n",
    "            insert_line_no=False\n",
    "        )\n",
    "        self.add_fixed_in_frame_mobjects(code)\n",
    "        code.to_corner(UL)\n",
    "        code.code.set_color(WHITE)\n",
    "        cube = Cube(side_length=1, fill_opacity=0.8)\n",
    "        cube.shift(0.5*(X+Y+Z)-2*Y-Z)\n",
    "        start = [1,-1,-1]\n",
    "        end = [0,3,1]\n",
    "        axis = Arrow3D(\n",
    "            start=start,\n",
    "            end=end,\n",
    "            thickness=0.05,\n",
    "            color=RED\n",
    "        )\n",
    "        axis_label = Text(\"'d' vector\", color=RED).set_shade_in_3d(True)\n",
    "        axis_label.rotate(PI/2, axis=X).rotate(PI/2, axis=Z)\n",
    "        axis_label.next_to([0,3,-1])\n",
    "        self.add(axes, cube, axis)\n",
    "        self.wait()\n",
    "        self.play(\n",
    "            FadeIn(axis_label), \n",
    "            Indicate(axis, color=RED), \n",
    "            Indicate(code.code.lines_text[11], color=RED),\n",
    "        )\n",
    "        code.code.lines_text[11].set_color(RED)\n",
    "        self.wait()\n",
    "        self.play(Homotopy(homotopy, cube))\n",
    "        self.wait()"
   ]
  },
  {
   "cell_type": "markdown",
   "metadata": {},
   "source": [
    "### Scale"
   ]
  },
  {
   "cell_type": "code",
   "execution_count": 5,
   "metadata": {},
   "outputs": [
    {
     "name": "stderr",
     "output_type": "stream",
     "text": [
      "                                                                                                     \r"
     ]
    },
    {
     "data": {
      "text/html": [
       "<video src=\"media\\jupyter\\Scale3D@2023-09-16@11-50-34.mp4\" controls autoplay loop style=\"max-width: 60%;\"  >\n",
       "      Your browser does not support the <code>video</code> element.\n",
       "    </video>"
      ],
      "text/plain": [
       "<IPython.core.display.Video object>"
      ]
     },
     "metadata": {},
     "output_type": "display_data"
    }
   ],
   "source": [
    "%%manim -ql -v WARNING Scale3D\n",
    "\n",
    "def homotopy(x,y,z,t):\n",
    "    s = 3\n",
    "    tr = dim3.scale(t*(s-1)+1)\n",
    "    xp, yp, zp = dim3.apply(tr, [x,y,z])\n",
    "    return (xp, yp, zp)\n",
    "\n",
    "class Scale3D(ThreeDScene):\n",
    "    def construct(self):\n",
    "        self.set_camera_orientation(phi=75*DEGREES, theta=-15*DEGREES)\n",
    "        axes = ThreeDAxes()\n",
    "        X, Y, Z = RIGHT, UP, OUT\n",
    "        code = Code(\n",
    "            code=\"dim3.scale(s)\", \n",
    "            language='Python', \n",
    "            insert_line_no=False\n",
    "        )\n",
    "        self.add_fixed_in_frame_mobjects(code)\n",
    "        code.to_corner(UL)\n",
    "        code.code.set_color(WHITE)\n",
    "        cube = Cube(side_length=1, fill_opacity=0.8)\n",
    "        cube.shift(0.5*(X+Y+Z))\n",
    "        axis = Line3D(\n",
    "            start=[0,0,0],\n",
    "            end=[3,0,0],\n",
    "            thickness=0.05,\n",
    "            color=YELLOW\n",
    "        )\n",
    "        axis_label = Text(\"s\", color=YELLOW).set_shade_in_3d(True)\n",
    "        axis_label.rotate(PI/2, axis=X).rotate(PI/2, axis=Z)\n",
    "        axis_label.next_to([1.5,-0.5,0])\n",
    "        self.add(axes, cube)#, axis)\n",
    "        self.wait()\n",
    "        self.play(\n",
    "            FadeIn(axis), \n",
    "            FadeIn(axis_label), \n",
    "            Indicate(code.code.lines_text[11])\n",
    "        )\n",
    "        code.code.lines_text[11].set_color(YELLOW)\n",
    "        # self.play(FadeIn(axis_label), Indicate(axis), Indicate(code.code.lines_text[11]))\n",
    "        self.wait()\n",
    "        self.play(Homotopy(homotopy, cube))\n",
    "        self.wait()"
   ]
  },
  {
   "cell_type": "code",
   "execution_count": 6,
   "metadata": {},
   "outputs": [
    {
     "name": "stderr",
     "output_type": "stream",
     "text": [
      "                                                                                                      \r"
     ]
    },
    {
     "data": {
      "text/html": [
       "<video src=\"media\\jupyter\\ScaleVec3D@2023-09-16@11-55-47.mp4\" controls autoplay loop style=\"max-width: 60%;\"  >\n",
       "      Your browser does not support the <code>video</code> element.\n",
       "    </video>"
      ],
      "text/plain": [
       "<IPython.core.display.Video object>"
      ]
     },
     "metadata": {},
     "output_type": "display_data"
    }
   ],
   "source": [
    "%%manim -ql -v WARNING ScaleVec3D\n",
    "\n",
    "def homotopy(x,y,z,t):\n",
    "    s = np.array([1.5,3,2])\n",
    "    tr = dim3.scale(t*(s-np.array([1,1,1]))+np.array([1,1,1]))\n",
    "    xp, yp, zp = dim3.apply(tr, [x,y,z])\n",
    "    return (xp, yp, zp)\n",
    "\n",
    "class ScaleVec3D(ThreeDScene):\n",
    "    def construct(self):\n",
    "        self.set_camera_orientation(phi=75*DEGREES, theta=-15*DEGREES)\n",
    "        axes = ThreeDAxes()\n",
    "        X, Y, Z = RIGHT, UP, OUT\n",
    "        code = Code(\n",
    "            code=\"dim3.scale([sx, sy, sz])\", \n",
    "            language='Python', \n",
    "            insert_line_no=False\n",
    "        )\n",
    "        self.add_fixed_in_frame_mobjects(code)\n",
    "        code.to_corner(UL)\n",
    "        cube = Cube(side_length=1, fill_opacity=0.8)\n",
    "        cube.shift(0.5*(X+Y+Z))\n",
    "        x_axis = Arrow3D(\n",
    "            start=[0,0,0],\n",
    "            end=[1.5,0,0],\n",
    "            thickness=0.05,\n",
    "            color=YELLOW\n",
    "        )\n",
    "        x_axis_label = Text(\"sx\", color=YELLOW).set_shade_in_3d(True)\n",
    "        x_axis_label.rotate(PI/2, axis=X).rotate(PI/2, axis=Z)\n",
    "        x_axis_label.next_to([0.75,-0.5,0])\n",
    "        y_axis = Arrow3D(\n",
    "            start=[0,0,0],\n",
    "            end=[0,3,0],\n",
    "            thickness=0.05,\n",
    "            color=GREEN\n",
    "        )\n",
    "        y_axis_label = Text(\"sy\", color=GREEN).set_shade_in_3d(True)\n",
    "        y_axis_label.rotate(PI/2, axis=X).rotate(PI/2, axis=Z)\n",
    "        y_axis_label.next_to([1.5,1.5,-0.5])\n",
    "        z_axis = Arrow3D(\n",
    "            start=[0,0,0],\n",
    "            end=[0,0,2],\n",
    "            thickness=0.05,\n",
    "            color=RED\n",
    "        )\n",
    "        z_axis_label = Text(\"sz\", color=RED).set_shade_in_3d(True)\n",
    "        z_axis_label.rotate(PI/2, axis=X).rotate(PI/2, axis=Z)\n",
    "        z_axis_label.next_to([0,0,2.5])\n",
    "        self.add(axes, cube)#, axis)\n",
    "        self.wait()\n",
    "        self.play(\n",
    "            FadeIn(x_axis),\n",
    "            FadeIn(x_axis_label),\n",
    "            Indicate(code.code.lines_text[12:14]),\n",
    "        )\n",
    "        code.code.lines_text[12:14].set_color(YELLOW)\n",
    "        self.play(\n",
    "            FadeIn(y_axis),\n",
    "            FadeIn(y_axis_label),\n",
    "            Indicate(code.code.lines_text[16:18], color=GREEN),\n",
    "        )\n",
    "        code.code.lines_text[16:18].set_color(GREEN)\n",
    "        self.play(\n",
    "            FadeIn(z_axis),\n",
    "            FadeIn(z_axis_label),\n",
    "            Indicate(code.code.lines_text[20:22], color=RED),\n",
    "        )\n",
    "        code.code.lines_text[20:22].set_color(RED)\n",
    "        # self.play(FadeIn(axis_label), Indicate(axis), Indicate(code.code.lines_text[12:14]))\n",
    "        self.wait()\n",
    "        self.play(Homotopy(homotopy, cube))\n",
    "        self.wait()"
   ]
  },
  {
   "cell_type": "markdown",
   "metadata": {},
   "source": [
    "#### Rotation"
   ]
  },
  {
   "cell_type": "code",
   "execution_count": 8,
   "metadata": {},
   "outputs": [
    {
     "name": "stderr",
     "output_type": "stream",
     "text": [
      "                                                                                                      \r"
     ]
    },
    {
     "data": {
      "text/html": [
       "<video src=\"media\\jupyter\\RotateX3D@2023-09-16@12-04-25.mp4\" controls autoplay loop style=\"max-width: 60%;\"  >\n",
       "      Your browser does not support the <code>video</code> element.\n",
       "    </video>"
      ],
      "text/plain": [
       "<IPython.core.display.Video object>"
      ]
     },
     "metadata": {},
     "output_type": "display_data"
    }
   ],
   "source": [
    "%%manim -ql -v WARNING RotateX3D\n",
    "\n",
    "phi = np.pi/2\n",
    "\n",
    "def homotopy(x,y,z,t):\n",
    "    tr = dim3.rot('x',t*phi)\n",
    "    xp, yp, zp = dim3.apply(tr, [x,y,z])\n",
    "    return (xp, yp, zp)\n",
    "\n",
    "class RotateX3D(ThreeDScene):\n",
    "    def construct(self):\n",
    "        self.set_camera_orientation(phi=60*DEGREES, theta=15*DEGREES)\n",
    "        axes = ThreeDAxes()\n",
    "        X, Y, Z = RIGHT, UP, OUT\n",
    "        code = Code(\n",
    "            code=\"dim3.rot('x',phi)\", \n",
    "            language='Python', \n",
    "            insert_line_no=False\n",
    "        )\n",
    "        self.add_fixed_in_frame_mobjects(code)\n",
    "        code.to_corner(UL)\n",
    "        code.code.set_color(WHITE)\n",
    "        cube = Cube(side_length=2, fill_opacity=0.8)\n",
    "        cube.shift(1*(X+Y+Z))\n",
    "        # Axis of rotation\n",
    "        axis = Arrow3D(\n",
    "            start=[0,0,0],\n",
    "            end=[2.5,0,0],\n",
    "            thickness=0.05,\n",
    "            color=GREEN\n",
    "        )\n",
    "        axis_label = Text(\"'x' axis\", color=GREEN).set_shade_in_3d(True)\n",
    "        axis_label.rotate(PI/2, axis=X).rotate(PI/2, axis=Z)\n",
    "        axis_label.next_to([3,0,0])\n",
    "        # Arc of rotation\n",
    "        arc = axes.plot_parametric_curve(\n",
    "            lambda t: np.array([2,1.5*np.cos(t*phi),1.5*np.sin(t*phi)]),\n",
    "            t_range = [0,1],\n",
    "            color=YELLOW\n",
    "        )\n",
    "        arc2 = axes.plot_parametric_curve(\n",
    "            lambda t: np.array([2,(1.0+t)*np.cos(phi),(1.0+t)*np.sin(phi)]),\n",
    "            t_range = [0,1],\n",
    "            color=YELLOW\n",
    "        )\n",
    "        arc_label = Text(\"phi\", color=YELLOW).set_shade_in_3d(True)\n",
    "        arc_label.rotate(PI/2, axis=X).rotate(PI/2, axis=Z)\n",
    "        arc_label.next_to([2,2,-0.5])\n",
    "        self.add(axes, cube, axis)\n",
    "        self.wait()\n",
    "        self.play(\n",
    "            Indicate(axis, color=GREEN),\n",
    "            FadeIn(axis_label),\n",
    "            Indicate(code.code.lines_text[9:12], color=GREEN),\n",
    "        )\n",
    "        code.code.lines_text[9:12].set_color(GREEN)\n",
    "        self.play(\n",
    "            FadeIn(arc, arc2, arc_label),\n",
    "            Indicate(code.code.lines_text[13:16])\n",
    "        )\n",
    "        code.code.lines_text[13:16].set_color(YELLOW)\n",
    "        self.wait()\n",
    "        self.play(Homotopy(homotopy, cube))\n",
    "        self.wait()\n"
   ]
  },
  {
   "cell_type": "code",
   "execution_count": 19,
   "metadata": {},
   "outputs": [
    {
     "name": "stderr",
     "output_type": "stream",
     "text": [
      "                                                                                          \r"
     ]
    },
    {
     "data": {
      "text/html": [
       "<video src=\"media/jupyter/RotateZ3D@2023-09-13@19-47-28.mp4\" controls autoplay loop style=\"max-width: 60%;\"  >\n",
       "      Your browser does not support the <code>video</code> element.\n",
       "    </video>"
      ],
      "text/plain": [
       "<IPython.core.display.Video object>"
      ]
     },
     "metadata": {},
     "output_type": "display_data"
    }
   ],
   "source": [
    "%%manim -ql -v WARNING RotateZ3D\n",
    "\n",
    "phi = 2*np.pi/3\n",
    "\n",
    "def homotopy(x,y,z,t):\n",
    "    tr = dim3.rot('z',t*phi)\n",
    "    xp, yp, zp = dim3.apply(tr, [x,y,z])\n",
    "    return (xp, yp, zp)\n",
    "\n",
    "class RotateZ3D(ThreeDScene):\n",
    "    def construct(self):\n",
    "        self.set_camera_orientation(phi=60*DEGREES, theta=15*DEGREES)\n",
    "        axes = ThreeDAxes()\n",
    "        X, Y, Z = RIGHT, UP, OUT\n",
    "        code = Code(\n",
    "            code=\"dim3.rot('z',phi)\", \n",
    "            language='Python', \n",
    "            insert_line_no=False\n",
    "        )\n",
    "        self.add_fixed_in_frame_mobjects(code)\n",
    "        code.to_corner(UL)\n",
    "        cube = Cube(side_length=2, fill_opacity=0.8)\n",
    "        cube.shift(1*(X-Y+Z))\n",
    "        code.code.set_color(WHITE)\n",
    "        # Axis of rotation\n",
    "        axis = Arrow3D(\n",
    "            start=[0,0,0],\n",
    "            end=[0,0,2.5],\n",
    "            thickness=0.05,\n",
    "            color=GREEN\n",
    "        )\n",
    "        axis_label = Text(\"'z' axis\", color=GREEN).set_shade_in_3d(True)\n",
    "        axis_label.rotate(PI/2, axis=X).rotate(PI/2, axis=Z)\n",
    "        axis_label.next_to([0,0,3])\n",
    "        # Arc of rotation\n",
    "        arc = axes.plot_parametric_curve(\n",
    "            lambda t: np.array([1.5*np.cos(t*phi),1.5*np.sin(t*phi),0]),\n",
    "            t_range = [0,1],\n",
    "            color=YELLOW\n",
    "        )\n",
    "        arc2 = axes.plot_parametric_curve(\n",
    "            lambda t: np.array([(1.0+t)*np.cos(phi),(1.0+t)*np.sin(phi),0]),\n",
    "            t_range = [0,1],\n",
    "            color=YELLOW\n",
    "        )\n",
    "        arc_label = Text(\"phi\", color=YELLOW).set_shade_in_3d(True)\n",
    "        arc_label.rotate(PI/2, axis=X).rotate(PI/2, axis=Z)\n",
    "        arc_label.next_to([1.717,1.717,0])\n",
    "        # axis_label.rotate(PI/2, axis=Z)\n",
    "        self.add(axes, cube, axis)\n",
    "        self.wait()\n",
    "        self.play(\n",
    "            Indicate(axis, color=GREEN),\n",
    "            FadeIn(axis_label),\n",
    "            Indicate(code.code.lines_text[9:12], color=GREEN),\n",
    "        )\n",
    "        code.code.lines_text[9:12].set_color(GREEN)\n",
    "        self.play(\n",
    "            FadeIn(arc, arc2, arc_label),\n",
    "            Indicate(code.code.lines_text[13:16])\n",
    "        )\n",
    "        code.code.lines_text[13:16].set_color(YELLOW)\n",
    "        self.wait()\n",
    "        self.play(Homotopy(homotopy, cube))\n",
    "        self.wait()\n"
   ]
  },
  {
   "cell_type": "code",
   "execution_count": 51,
   "metadata": {},
   "outputs": [
    {
     "name": "stderr",
     "output_type": "stream",
     "text": [
      "                                                                                                        \r"
     ]
    },
    {
     "data": {
      "text/html": [
       "<pre style=\"white-space:pre;overflow-x:auto;line-height:normal;font-family:Menlo,'DejaVu Sans Mono',consolas,'Courier New',monospace\"><span style=\"color: #7fbfbf; text-decoration-color: #7fbfbf\">[09/16/23 17:12:45] </span><span style=\"color: #800000; text-decoration-color: #800000\">WARNING </span> It looks like the <span style=\"color: #808000; text-decoration-color: #808000; font-weight: bold\">scene</span> contains a lot of sub-mobjects. Caching is      <a href=\"file://c:\\Users\\jefwa\\miniconda3\\envs\\manim\\lib\\site-packages\\manim\\utils\\hashing.py\" target=\"_blank\"><span style=\"color: #7f7f7f; text-decoration-color: #7f7f7f\">hashing.py</span></a><span style=\"color: #7f7f7f; text-decoration-color: #7f7f7f\">:</span><a href=\"file://c:\\Users\\jefwa\\miniconda3\\envs\\manim\\lib\\site-packages\\manim\\utils\\hashing.py#158\" target=\"_blank\"><span style=\"color: #7f7f7f; text-decoration-color: #7f7f7f\">158</span></a>\n",
       "<span style=\"color: #7fbfbf; text-decoration-color: #7fbfbf\">                    </span>         sometimes not suited to handle such large <span style=\"color: #808000; text-decoration-color: #808000; font-weight: bold\">scene</span>s, you might consider    <span style=\"color: #7f7f7f; text-decoration-color: #7f7f7f\">              </span>\n",
       "<span style=\"color: #7fbfbf; text-decoration-color: #7fbfbf\">                    </span>         disabling caching with --disable_caching to potentially speed up the    <span style=\"color: #7f7f7f; text-decoration-color: #7f7f7f\">              </span>\n",
       "<span style=\"color: #7fbfbf; text-decoration-color: #7fbfbf\">                    </span>         rendering process.                                                      <span style=\"color: #7f7f7f; text-decoration-color: #7f7f7f\">              </span>\n",
       "</pre>\n"
      ],
      "text/plain": [
       "\u001b[2;36m[09/16/23 17:12:45]\u001b[0m\u001b[2;36m \u001b[0m\u001b[31mWARNING \u001b[0m It looks like the \u001b[1;33mscene\u001b[0m contains a lot of sub-mobjects. Caching is      \u001b]8;id=241987;file://c:\\Users\\jefwa\\miniconda3\\envs\\manim\\lib\\site-packages\\manim\\utils\\hashing.py\u001b\\\u001b[2mhashing.py\u001b[0m\u001b]8;;\u001b\\\u001b[2m:\u001b[0m\u001b]8;id=947623;file://c:\\Users\\jefwa\\miniconda3\\envs\\manim\\lib\\site-packages\\manim\\utils\\hashing.py#158\u001b\\\u001b[2m158\u001b[0m\u001b]8;;\u001b\\\n",
       "\u001b[2;36m                    \u001b[0m         sometimes not suited to handle such large \u001b[1;33mscene\u001b[0ms, you might consider    \u001b[2m              \u001b[0m\n",
       "\u001b[2;36m                    \u001b[0m         disabling caching with --disable_caching to potentially speed up the    \u001b[2m              \u001b[0m\n",
       "\u001b[2;36m                    \u001b[0m         rendering process.                                                      \u001b[2m              \u001b[0m\n"
      ]
     },
     "metadata": {},
     "output_type": "display_data"
    },
    {
     "data": {
      "text/html": [
       "<pre style=\"white-space:pre;overflow-x:auto;line-height:normal;font-family:Menlo,'DejaVu Sans Mono',consolas,'Courier New',monospace\"><span style=\"color: #7fbfbf; text-decoration-color: #7fbfbf\">                    </span><span style=\"color: #800000; text-decoration-color: #800000\">WARNING </span> You can disable this warning by setting disable_caching_warning to <span style=\"color: #00ff00; text-decoration-color: #00ff00; font-style: italic\">True</span> <a href=\"file://c:\\Users\\jefwa\\miniconda3\\envs\\manim\\lib\\site-packages\\manim\\utils\\hashing.py\" target=\"_blank\"><span style=\"color: #7f7f7f; text-decoration-color: #7f7f7f\">hashing.py</span></a><span style=\"color: #7f7f7f; text-decoration-color: #7f7f7f\">:</span><a href=\"file://c:\\Users\\jefwa\\miniconda3\\envs\\manim\\lib\\site-packages\\manim\\utils\\hashing.py#164\" target=\"_blank\"><span style=\"color: #7f7f7f; text-decoration-color: #7f7f7f\">164</span></a>\n",
       "<span style=\"color: #7fbfbf; text-decoration-color: #7fbfbf\">                    </span>         in your config file.                                                    <span style=\"color: #7f7f7f; text-decoration-color: #7f7f7f\">              </span>\n",
       "</pre>\n"
      ],
      "text/plain": [
       "\u001b[2;36m                   \u001b[0m\u001b[2;36m \u001b[0m\u001b[31mWARNING \u001b[0m You can disable this warning by setting disable_caching_warning to \u001b[3;92mTrue\u001b[0m \u001b]8;id=544687;file://c:\\Users\\jefwa\\miniconda3\\envs\\manim\\lib\\site-packages\\manim\\utils\\hashing.py\u001b\\\u001b[2mhashing.py\u001b[0m\u001b]8;;\u001b\\\u001b[2m:\u001b[0m\u001b]8;id=398195;file://c:\\Users\\jefwa\\miniconda3\\envs\\manim\\lib\\site-packages\\manim\\utils\\hashing.py#164\u001b\\\u001b[2m164\u001b[0m\u001b]8;;\u001b\\\n",
       "\u001b[2;36m                    \u001b[0m         in your config file.                                                    \u001b[2m              \u001b[0m\n"
      ]
     },
     "metadata": {},
     "output_type": "display_data"
    },
    {
     "name": "stderr",
     "output_type": "stream",
     "text": [
      "                                                                                 \r"
     ]
    },
    {
     "data": {
      "text/html": [
       "<pre style=\"white-space:pre;overflow-x:auto;line-height:normal;font-family:Menlo,'DejaVu Sans Mono',consolas,'Courier New',monospace\"><span style=\"color: #7fbfbf; text-decoration-color: #7fbfbf\">[09/16/23 17:17:30] </span><span style=\"color: #800000; text-decoration-color: #800000\">WARNING </span> It looks like the <span style=\"color: #808000; text-decoration-color: #808000; font-weight: bold\">scene</span> contains a lot of sub-mobjects. Caching is      <a href=\"file://c:\\Users\\jefwa\\miniconda3\\envs\\manim\\lib\\site-packages\\manim\\utils\\hashing.py\" target=\"_blank\"><span style=\"color: #7f7f7f; text-decoration-color: #7f7f7f\">hashing.py</span></a><span style=\"color: #7f7f7f; text-decoration-color: #7f7f7f\">:</span><a href=\"file://c:\\Users\\jefwa\\miniconda3\\envs\\manim\\lib\\site-packages\\manim\\utils\\hashing.py#158\" target=\"_blank\"><span style=\"color: #7f7f7f; text-decoration-color: #7f7f7f\">158</span></a>\n",
       "<span style=\"color: #7fbfbf; text-decoration-color: #7fbfbf\">                    </span>         sometimes not suited to handle such large <span style=\"color: #808000; text-decoration-color: #808000; font-weight: bold\">scene</span>s, you might consider    <span style=\"color: #7f7f7f; text-decoration-color: #7f7f7f\">              </span>\n",
       "<span style=\"color: #7fbfbf; text-decoration-color: #7fbfbf\">                    </span>         disabling caching with --disable_caching to potentially speed up the    <span style=\"color: #7f7f7f; text-decoration-color: #7f7f7f\">              </span>\n",
       "<span style=\"color: #7fbfbf; text-decoration-color: #7fbfbf\">                    </span>         rendering process.                                                      <span style=\"color: #7f7f7f; text-decoration-color: #7f7f7f\">              </span>\n",
       "</pre>\n"
      ],
      "text/plain": [
       "\u001b[2;36m[09/16/23 17:17:30]\u001b[0m\u001b[2;36m \u001b[0m\u001b[31mWARNING \u001b[0m It looks like the \u001b[1;33mscene\u001b[0m contains a lot of sub-mobjects. Caching is      \u001b]8;id=907822;file://c:\\Users\\jefwa\\miniconda3\\envs\\manim\\lib\\site-packages\\manim\\utils\\hashing.py\u001b\\\u001b[2mhashing.py\u001b[0m\u001b]8;;\u001b\\\u001b[2m:\u001b[0m\u001b]8;id=206369;file://c:\\Users\\jefwa\\miniconda3\\envs\\manim\\lib\\site-packages\\manim\\utils\\hashing.py#158\u001b\\\u001b[2m158\u001b[0m\u001b]8;;\u001b\\\n",
       "\u001b[2;36m                    \u001b[0m         sometimes not suited to handle such large \u001b[1;33mscene\u001b[0ms, you might consider    \u001b[2m              \u001b[0m\n",
       "\u001b[2;36m                    \u001b[0m         disabling caching with --disable_caching to potentially speed up the    \u001b[2m              \u001b[0m\n",
       "\u001b[2;36m                    \u001b[0m         rendering process.                                                      \u001b[2m              \u001b[0m\n"
      ]
     },
     "metadata": {},
     "output_type": "display_data"
    },
    {
     "data": {
      "text/html": [
       "<pre style=\"white-space:pre;overflow-x:auto;line-height:normal;font-family:Menlo,'DejaVu Sans Mono',consolas,'Courier New',monospace\"><span style=\"color: #7fbfbf; text-decoration-color: #7fbfbf\">                    </span><span style=\"color: #800000; text-decoration-color: #800000\">WARNING </span> You can disable this warning by setting disable_caching_warning to <span style=\"color: #00ff00; text-decoration-color: #00ff00; font-style: italic\">True</span> <a href=\"file://c:\\Users\\jefwa\\miniconda3\\envs\\manim\\lib\\site-packages\\manim\\utils\\hashing.py\" target=\"_blank\"><span style=\"color: #7f7f7f; text-decoration-color: #7f7f7f\">hashing.py</span></a><span style=\"color: #7f7f7f; text-decoration-color: #7f7f7f\">:</span><a href=\"file://c:\\Users\\jefwa\\miniconda3\\envs\\manim\\lib\\site-packages\\manim\\utils\\hashing.py#164\" target=\"_blank\"><span style=\"color: #7f7f7f; text-decoration-color: #7f7f7f\">164</span></a>\n",
       "<span style=\"color: #7fbfbf; text-decoration-color: #7fbfbf\">                    </span>         in your config file.                                                    <span style=\"color: #7f7f7f; text-decoration-color: #7f7f7f\">              </span>\n",
       "</pre>\n"
      ],
      "text/plain": [
       "\u001b[2;36m                   \u001b[0m\u001b[2;36m \u001b[0m\u001b[31mWARNING \u001b[0m You can disable this warning by setting disable_caching_warning to \u001b[3;92mTrue\u001b[0m \u001b]8;id=301874;file://c:\\Users\\jefwa\\miniconda3\\envs\\manim\\lib\\site-packages\\manim\\utils\\hashing.py\u001b\\\u001b[2mhashing.py\u001b[0m\u001b]8;;\u001b\\\u001b[2m:\u001b[0m\u001b]8;id=463967;file://c:\\Users\\jefwa\\miniconda3\\envs\\manim\\lib\\site-packages\\manim\\utils\\hashing.py#164\u001b\\\u001b[2m164\u001b[0m\u001b]8;;\u001b\\\n",
       "\u001b[2;36m                    \u001b[0m         in your config file.                                                    \u001b[2m              \u001b[0m\n"
      ]
     },
     "metadata": {},
     "output_type": "display_data"
    },
    {
     "data": {
      "text/html": [
       "<pre style=\"white-space:pre;overflow-x:auto;line-height:normal;font-family:Menlo,'DejaVu Sans Mono',consolas,'Courier New',monospace\"><span style=\"color: #7fbfbf; text-decoration-color: #7fbfbf\">[09/16/23 17:18:12] </span><span style=\"color: #800000; text-decoration-color: #800000\">WARNING </span> It looks like the <span style=\"color: #808000; text-decoration-color: #808000; font-weight: bold\">scene</span> contains a lot of sub-mobjects. Caching is      <a href=\"file://c:\\Users\\jefwa\\miniconda3\\envs\\manim\\lib\\site-packages\\manim\\utils\\hashing.py\" target=\"_blank\"><span style=\"color: #7f7f7f; text-decoration-color: #7f7f7f\">hashing.py</span></a><span style=\"color: #7f7f7f; text-decoration-color: #7f7f7f\">:</span><a href=\"file://c:\\Users\\jefwa\\miniconda3\\envs\\manim\\lib\\site-packages\\manim\\utils\\hashing.py#158\" target=\"_blank\"><span style=\"color: #7f7f7f; text-decoration-color: #7f7f7f\">158</span></a>\n",
       "<span style=\"color: #7fbfbf; text-decoration-color: #7fbfbf\">                    </span>         sometimes not suited to handle such large <span style=\"color: #808000; text-decoration-color: #808000; font-weight: bold\">scene</span>s, you might consider    <span style=\"color: #7f7f7f; text-decoration-color: #7f7f7f\">              </span>\n",
       "<span style=\"color: #7fbfbf; text-decoration-color: #7fbfbf\">                    </span>         disabling caching with --disable_caching to potentially speed up the    <span style=\"color: #7f7f7f; text-decoration-color: #7f7f7f\">              </span>\n",
       "<span style=\"color: #7fbfbf; text-decoration-color: #7fbfbf\">                    </span>         rendering process.                                                      <span style=\"color: #7f7f7f; text-decoration-color: #7f7f7f\">              </span>\n",
       "</pre>\n"
      ],
      "text/plain": [
       "\u001b[2;36m[09/16/23 17:18:12]\u001b[0m\u001b[2;36m \u001b[0m\u001b[31mWARNING \u001b[0m It looks like the \u001b[1;33mscene\u001b[0m contains a lot of sub-mobjects. Caching is      \u001b]8;id=485945;file://c:\\Users\\jefwa\\miniconda3\\envs\\manim\\lib\\site-packages\\manim\\utils\\hashing.py\u001b\\\u001b[2mhashing.py\u001b[0m\u001b]8;;\u001b\\\u001b[2m:\u001b[0m\u001b]8;id=290509;file://c:\\Users\\jefwa\\miniconda3\\envs\\manim\\lib\\site-packages\\manim\\utils\\hashing.py#158\u001b\\\u001b[2m158\u001b[0m\u001b]8;;\u001b\\\n",
       "\u001b[2;36m                    \u001b[0m         sometimes not suited to handle such large \u001b[1;33mscene\u001b[0ms, you might consider    \u001b[2m              \u001b[0m\n",
       "\u001b[2;36m                    \u001b[0m         disabling caching with --disable_caching to potentially speed up the    \u001b[2m              \u001b[0m\n",
       "\u001b[2;36m                    \u001b[0m         rendering process.                                                      \u001b[2m              \u001b[0m\n"
      ]
     },
     "metadata": {},
     "output_type": "display_data"
    },
    {
     "data": {
      "text/html": [
       "<pre style=\"white-space:pre;overflow-x:auto;line-height:normal;font-family:Menlo,'DejaVu Sans Mono',consolas,'Courier New',monospace\"><span style=\"color: #7fbfbf; text-decoration-color: #7fbfbf\">                    </span><span style=\"color: #800000; text-decoration-color: #800000\">WARNING </span> You can disable this warning by setting disable_caching_warning to <span style=\"color: #00ff00; text-decoration-color: #00ff00; font-style: italic\">True</span> <a href=\"file://c:\\Users\\jefwa\\miniconda3\\envs\\manim\\lib\\site-packages\\manim\\utils\\hashing.py\" target=\"_blank\"><span style=\"color: #7f7f7f; text-decoration-color: #7f7f7f\">hashing.py</span></a><span style=\"color: #7f7f7f; text-decoration-color: #7f7f7f\">:</span><a href=\"file://c:\\Users\\jefwa\\miniconda3\\envs\\manim\\lib\\site-packages\\manim\\utils\\hashing.py#164\" target=\"_blank\"><span style=\"color: #7f7f7f; text-decoration-color: #7f7f7f\">164</span></a>\n",
       "<span style=\"color: #7fbfbf; text-decoration-color: #7fbfbf\">                    </span>         in your config file.                                                    <span style=\"color: #7f7f7f; text-decoration-color: #7f7f7f\">              </span>\n",
       "</pre>\n"
      ],
      "text/plain": [
       "\u001b[2;36m                   \u001b[0m\u001b[2;36m \u001b[0m\u001b[31mWARNING \u001b[0m You can disable this warning by setting disable_caching_warning to \u001b[3;92mTrue\u001b[0m \u001b]8;id=474167;file://c:\\Users\\jefwa\\miniconda3\\envs\\manim\\lib\\site-packages\\manim\\utils\\hashing.py\u001b\\\u001b[2mhashing.py\u001b[0m\u001b]8;;\u001b\\\u001b[2m:\u001b[0m\u001b]8;id=511693;file://c:\\Users\\jefwa\\miniconda3\\envs\\manim\\lib\\site-packages\\manim\\utils\\hashing.py#164\u001b\\\u001b[2m164\u001b[0m\u001b]8;;\u001b\\\n",
       "\u001b[2;36m                    \u001b[0m         in your config file.                                                    \u001b[2m              \u001b[0m\n"
      ]
     },
     "metadata": {},
     "output_type": "display_data"
    },
    {
     "name": "stderr",
     "output_type": "stream",
     "text": [
      "                                                                                                   \r"
     ]
    },
    {
     "data": {
      "text/html": [
       "<pre style=\"white-space:pre;overflow-x:auto;line-height:normal;font-family:Menlo,'DejaVu Sans Mono',consolas,'Courier New',monospace\"><span style=\"color: #7fbfbf; text-decoration-color: #7fbfbf\">[09/16/23 17:32:06] </span><span style=\"color: #800000; text-decoration-color: #800000\">WARNING </span> It looks like the <span style=\"color: #808000; text-decoration-color: #808000; font-weight: bold\">scene</span> contains a lot of sub-mobjects. Caching is      <a href=\"file://c:\\Users\\jefwa\\miniconda3\\envs\\manim\\lib\\site-packages\\manim\\utils\\hashing.py\" target=\"_blank\"><span style=\"color: #7f7f7f; text-decoration-color: #7f7f7f\">hashing.py</span></a><span style=\"color: #7f7f7f; text-decoration-color: #7f7f7f\">:</span><a href=\"file://c:\\Users\\jefwa\\miniconda3\\envs\\manim\\lib\\site-packages\\manim\\utils\\hashing.py#158\" target=\"_blank\"><span style=\"color: #7f7f7f; text-decoration-color: #7f7f7f\">158</span></a>\n",
       "<span style=\"color: #7fbfbf; text-decoration-color: #7fbfbf\">                    </span>         sometimes not suited to handle such large <span style=\"color: #808000; text-decoration-color: #808000; font-weight: bold\">scene</span>s, you might consider    <span style=\"color: #7f7f7f; text-decoration-color: #7f7f7f\">              </span>\n",
       "<span style=\"color: #7fbfbf; text-decoration-color: #7fbfbf\">                    </span>         disabling caching with --disable_caching to potentially speed up the    <span style=\"color: #7f7f7f; text-decoration-color: #7f7f7f\">              </span>\n",
       "<span style=\"color: #7fbfbf; text-decoration-color: #7fbfbf\">                    </span>         rendering process.                                                      <span style=\"color: #7f7f7f; text-decoration-color: #7f7f7f\">              </span>\n",
       "</pre>\n"
      ],
      "text/plain": [
       "\u001b[2;36m[09/16/23 17:32:06]\u001b[0m\u001b[2;36m \u001b[0m\u001b[31mWARNING \u001b[0m It looks like the \u001b[1;33mscene\u001b[0m contains a lot of sub-mobjects. Caching is      \u001b]8;id=993662;file://c:\\Users\\jefwa\\miniconda3\\envs\\manim\\lib\\site-packages\\manim\\utils\\hashing.py\u001b\\\u001b[2mhashing.py\u001b[0m\u001b]8;;\u001b\\\u001b[2m:\u001b[0m\u001b]8;id=189121;file://c:\\Users\\jefwa\\miniconda3\\envs\\manim\\lib\\site-packages\\manim\\utils\\hashing.py#158\u001b\\\u001b[2m158\u001b[0m\u001b]8;;\u001b\\\n",
       "\u001b[2;36m                    \u001b[0m         sometimes not suited to handle such large \u001b[1;33mscene\u001b[0ms, you might consider    \u001b[2m              \u001b[0m\n",
       "\u001b[2;36m                    \u001b[0m         disabling caching with --disable_caching to potentially speed up the    \u001b[2m              \u001b[0m\n",
       "\u001b[2;36m                    \u001b[0m         rendering process.                                                      \u001b[2m              \u001b[0m\n"
      ]
     },
     "metadata": {},
     "output_type": "display_data"
    },
    {
     "data": {
      "text/html": [
       "<pre style=\"white-space:pre;overflow-x:auto;line-height:normal;font-family:Menlo,'DejaVu Sans Mono',consolas,'Courier New',monospace\"><span style=\"color: #7fbfbf; text-decoration-color: #7fbfbf\">                    </span><span style=\"color: #800000; text-decoration-color: #800000\">WARNING </span> You can disable this warning by setting disable_caching_warning to <span style=\"color: #00ff00; text-decoration-color: #00ff00; font-style: italic\">True</span> <a href=\"file://c:\\Users\\jefwa\\miniconda3\\envs\\manim\\lib\\site-packages\\manim\\utils\\hashing.py\" target=\"_blank\"><span style=\"color: #7f7f7f; text-decoration-color: #7f7f7f\">hashing.py</span></a><span style=\"color: #7f7f7f; text-decoration-color: #7f7f7f\">:</span><a href=\"file://c:\\Users\\jefwa\\miniconda3\\envs\\manim\\lib\\site-packages\\manim\\utils\\hashing.py#164\" target=\"_blank\"><span style=\"color: #7f7f7f; text-decoration-color: #7f7f7f\">164</span></a>\n",
       "<span style=\"color: #7fbfbf; text-decoration-color: #7fbfbf\">                    </span>         in your config file.                                                    <span style=\"color: #7f7f7f; text-decoration-color: #7f7f7f\">              </span>\n",
       "</pre>\n"
      ],
      "text/plain": [
       "\u001b[2;36m                   \u001b[0m\u001b[2;36m \u001b[0m\u001b[31mWARNING \u001b[0m You can disable this warning by setting disable_caching_warning to \u001b[3;92mTrue\u001b[0m \u001b]8;id=441146;file://c:\\Users\\jefwa\\miniconda3\\envs\\manim\\lib\\site-packages\\manim\\utils\\hashing.py\u001b\\\u001b[2mhashing.py\u001b[0m\u001b]8;;\u001b\\\u001b[2m:\u001b[0m\u001b]8;id=228362;file://c:\\Users\\jefwa\\miniconda3\\envs\\manim\\lib\\site-packages\\manim\\utils\\hashing.py#164\u001b\\\u001b[2m164\u001b[0m\u001b]8;;\u001b\\\n",
       "\u001b[2;36m                    \u001b[0m         in your config file.                                                    \u001b[2m              \u001b[0m\n"
      ]
     },
     "metadata": {},
     "output_type": "display_data"
    },
    {
     "data": {
      "text/html": [
       "<video src=\"media\\jupyter\\RotateAA3D@2023-09-16@17-32-27.mp4\" controls autoplay loop style=\"max-width: 60%;\"  >\n",
       "      Your browser does not support the <code>video</code> element.\n",
       "    </video>"
      ],
      "text/plain": [
       "<IPython.core.display.Video object>"
      ]
     },
     "metadata": {},
     "output_type": "display_data"
    }
   ],
   "source": [
    "%%manim -ql -v WARNING RotateAA3D\n",
    "\n",
    "phi = 2*np.pi/3\n",
    "\n",
    "def homotopy(x,y,z,t):\n",
    "    tr = dim3.rot([1,1,1],t*phi,dtype=np.float64)\n",
    "    xp, yp, zp = dim3.apply(tr, [x,y,z])\n",
    "    return (xp, yp, zp)\n",
    "\n",
    "\n",
    "class Arc3D(VGroup):\n",
    "    # Number of Lines in Arc\n",
    "    nla = 30\n",
    "\n",
    "    def __init__(self, center, start, end):\n",
    "        super().__init__()\n",
    "        _c = np.array(center)\n",
    "        _s = np.array(start)\n",
    "        r1 = _s - _c\n",
    "        r1_mag = np.sqrt(np.sum(r1*r1))\n",
    "        _e = np.array(end)\n",
    "        r2 = _e - _c\n",
    "        r2_mag = np.sqrt(np.sum(r2*r2))\n",
    "        n = np.cross(r1, r2)/(r1_mag*r2_mag)\n",
    "        sin_th = np.sqrt(np.sum(n*n))\n",
    "        cos_th = np.sum(r1*r2)/(r1_mag*r2_mag)\n",
    "        th = np.arctan2(sin_th, cos_th)\n",
    "        d_th = th/self.nla\n",
    "        for i in range(self.nla):\n",
    "            tr1 = dim3.rot(n,i*d_th,dtype=np.float64)\n",
    "            tr2 = dim3.rot(n,(i+1)*d_th,dtype=np.float64)\n",
    "            start = dim3.apply(tr1, (_c + r1)).astype(np.float64)\n",
    "            end = dim3.apply(tr2, (_c + r1)).astype(np.float64)\n",
    "            self.add(Line3D(start=start, end=end, thickness=0.02, color=YELLOW))\n",
    "        \n",
    "\n",
    "class RotateAA3D(ThreeDScene):\n",
    "    def construct(self):\n",
    "        self.set_camera_orientation(phi=60*DEGREES, theta=-15*DEGREES)\n",
    "        axes = ThreeDAxes()\n",
    "        X, Y, Z = RIGHT, UP, OUT\n",
    "        code = Code(\n",
    "            code=\"dim3.rot(a,phi)\", \n",
    "            language='Python', \n",
    "            insert_line_no=False\n",
    "        )\n",
    "        self.add_fixed_in_frame_mobjects(code)\n",
    "        code.to_corner(UL)\n",
    "        code.code.set_color(WHITE)\n",
    "        cube = Cube(side_length=2, fill_opacity=0.8)\n",
    "        cube.shift(1*(X+Y+Z))\n",
    "        # axis or rotation\n",
    "        axis = Arrow3D(\n",
    "            start=[0,0,0],\n",
    "            end=[2.5,2.5,2.5],\n",
    "            thickness=0.05,\n",
    "            color=GREEN\n",
    "        )\n",
    "        axis_label = Text(\"'a' vector\", color=GREEN).set_shade_in_3d(True)\n",
    "        axis_label.rotate(PI/2, axis=X).rotate(PI/2, axis=Z)\n",
    "        axis_label.next_to([3,3,3.5])\n",
    "        # Arc of rotation\n",
    "        # arc = axes.plot_parametric_curve(\n",
    "        #     lambda t: dim3.apply(dim3.rot([1,1,1],t*phi),[0,2.10,2.10]).astype(np.float64),\n",
    "        #     t_range = [0,1],\n",
    "        #     color=YELLOW\n",
    "        # )\n",
    "        arc = Arc3D([0,0,0],[-2,1,1],[1,-2,1])\n",
    "        arc_label = Text(\"phi\", color=YELLOW).set_shade_in_3d(True)\n",
    "        arc_label.rotate(PI/2, axis=X).rotate(PI/2, axis=Z)\n",
    "        arc_label.next_to([0.5,-1,0.5])\n",
    "        line = Line3D(start=[0,0,0],end=[-2.5,1.25,1.25], color=YELLOW)\n",
    "        plane = Polyhedron(\n",
    "            vertex_coords = [[-6,3,3],[3,-6,3],[6,-3,-3],[-3,6,-3]],\n",
    "            faces_list = [[0,1,2,3]]\n",
    "        )\n",
    "        plane.set_color(GREEN).set_opacity(0.2)\n",
    "        # axis_label.rotate(PI/2, axis=Z)\n",
    "        self.add(axes, cube, axis)\n",
    "        self.wait()\n",
    "        self.play(\n",
    "            Indicate(axis, color=GREEN),\n",
    "            FadeIn(axis_label),\n",
    "            FadeIn(plane),\n",
    "            Indicate(code.code.lines_text[9], color=GREEN),\n",
    "        )\n",
    "        code.code.lines_text[9].set_color(GREEN)\n",
    "        self.play(\n",
    "            FadeIn(arc, arc_label, line),\n",
    "            Indicate(code.code.lines_text[11:14])\n",
    "        )\n",
    "        code.code.lines_text[11:14].set_color(YELLOW)\n",
    "        self.wait()\n",
    "        self.play(Homotopy(homotopy,cube), Homotopy(homotopy,line))\n",
    "        self.wait()\n"
   ]
  },
  {
   "cell_type": "code",
   "execution_count": 45,
   "metadata": {},
   "outputs": [
    {
     "data": {
      "text/plain": [
       "array([ 1.0000132 , -2.00002641,  1.0000132 ])"
      ]
     },
     "execution_count": 45,
     "metadata": {},
     "output_type": "execute_result"
    }
   ],
   "source": [
    "a = np.array([1,1,1],dtype=np.float64)\n",
    "a_mag = np.sqrt(np.sum(a*a))\n",
    "b = np.array([1,0,1],dtype=np.float64)\n",
    "b_mag = np.sqrt(np.sum(b*b))\n",
    "c = b-np.dot(a,b)/a_mag*a/a_mag\n",
    "c/(np.sqrt(np.sum(c*c)))/0.4082429"
   ]
  },
  {
   "cell_type": "markdown",
   "metadata": {},
   "source": [
    "#### Reflection"
   ]
  },
  {
   "cell_type": "code",
   "execution_count": 9,
   "metadata": {},
   "outputs": [
    {
     "name": "stderr",
     "output_type": "stream",
     "text": [
      "                                                                                                     \r"
     ]
    },
    {
     "data": {
      "text/html": [
       "<video src=\"media\\jupyter\\ReflZ3D@2023-09-16@12-07-12.mp4\" controls autoplay loop style=\"max-width: 60%;\"  >\n",
       "      Your browser does not support the <code>video</code> element.\n",
       "    </video>"
      ],
      "text/plain": [
       "<IPython.core.display.Video object>"
      ]
     },
     "metadata": {},
     "output_type": "display_data"
    }
   ],
   "source": [
    "%%manim -ql -v WARNING ReflZ3D\n",
    "\n",
    "def refl(mobj: MObject):\n",
    "    tr = dim3.refl('z')\n",
    "    mobj.apply_function(lambda x: dim3.apply(tr, x))\n",
    "\n",
    "class ReflZ3D(ThreeDScene):\n",
    "    def construct(self):\n",
    "        self.set_camera_orientation(phi=60*DEGREES, theta=-15*DEGREES)\n",
    "        axes = ThreeDAxes()\n",
    "        X, Y, Z = RIGHT, UP, OUT\n",
    "        code = Code(\n",
    "            code=\"dim3.refl('z')\", \n",
    "            language='Python', \n",
    "            insert_line_no=False\n",
    "        )\n",
    "        self.add_fixed_in_frame_mobjects(code)\n",
    "        code.to_corner(UL)\n",
    "        code.code.set_color(WHITE)\n",
    "        # original cone\n",
    "        cone = Cone(base_radius=1, height=2, fill_opacity=0.8)\n",
    "        cone.shift(-Y+2*Z)\n",
    "        # reflected cone\n",
    "        cone_refl = cone.copy()\n",
    "        cone_refl.apply_to_family(refl)\n",
    "        #axis\n",
    "        axis = Arrow3D(\n",
    "            start=[0,0,0],\n",
    "            end=[0,0,1],\n",
    "            thickness=0.05,\n",
    "            color=GREEN\n",
    "        )\n",
    "        axis_label = Text(\"'z' axis\", color=GREEN).set_shade_in_3d(True)\n",
    "        axis_label.rotate(PI/2, axis=X).rotate(PI/2, axis=Z)\n",
    "        axis_label.next_to([0,1.5,0.5])\n",
    "        # plane\n",
    "        plane = Polyhedron(\n",
    "            vertex_coords = [[6,6,0],[6,-6,0],[-6,-6,0],[-6,6,0]],\n",
    "            faces_list = [[0,1,2,3]]\n",
    "        )\n",
    "        plane.set_color(GREEN).set_opacity(0.2)\n",
    "        plane_label = Text(\"'z' plane\", color=GREEN).set_shade_in_3d(True)\n",
    "        plane_label.rotate(PI/2, axis=X).rotate(PI/2, axis=Z)\n",
    "        plane_label.next_to([0,1.8,-0.5])\n",
    "        # axis_label.rotate(PI/2, axis=Z)\n",
    "        self.add(axes, cone)\n",
    "        self.wait()\n",
    "        self.play(\n",
    "            FadeIn(axis, axis_label),\n",
    "            Indicate(code.code.lines_text[10:13], color=GREEN),\n",
    "        )\n",
    "        code.code.lines_text[10:13].set_color(GREEN)\n",
    "        self.play(\n",
    "            FadeIn(plane, plane_label),\n",
    "        )\n",
    "        self.wait()\n",
    "        self.play(FadeOut(cone),FadeIn(cone_refl))\n",
    "        self.wait()\n"
   ]
  },
  {
   "cell_type": "code",
   "execution_count": 52,
   "metadata": {},
   "outputs": [
    {
     "name": "stderr",
     "output_type": "stream",
     "text": [
      "                                                                                                     \r"
     ]
    },
    {
     "data": {
      "text/html": [
       "<video src=\"media\\jupyter\\ReflN3D@2023-09-16@17-39-03.mp4\" controls autoplay loop style=\"max-width: 60%;\"  >\n",
       "      Your browser does not support the <code>video</code> element.\n",
       "    </video>"
      ],
      "text/plain": [
       "<IPython.core.display.Video object>"
      ]
     },
     "metadata": {},
     "output_type": "display_data"
    }
   ],
   "source": [
    "%%manim -ql -v WARNING ReflN3D\n",
    "\n",
    "n = [0,-1,1]\n",
    "\n",
    "def refl(mobj: MObject):\n",
    "    tr = dim3.refl(n)\n",
    "    mobj.apply_function(lambda x: dim3.apply(tr, x))\n",
    "\n",
    "class ReflN3D(ThreeDScene):\n",
    "    def construct(self):\n",
    "        self.set_camera_orientation(phi=60*DEGREES, theta=-15*DEGREES)\n",
    "        axes = ThreeDAxes()\n",
    "        X, Y, Z = RIGHT, UP, OUT\n",
    "        code = Code(\n",
    "            code=\"dim3.refl(n)\", \n",
    "            language='Python', \n",
    "            insert_line_no=False\n",
    "        )\n",
    "        self.add_fixed_in_frame_mobjects(code)\n",
    "        code.to_corner(UL)\n",
    "        code.code.set_color(WHITE)\n",
    "        # original cone\n",
    "        cone = Cone(base_radius=1, height=2, fill_opacity=0.8)\n",
    "        cone.shift(+Y+2*Z)\n",
    "        # reflected cone\n",
    "        cone_refl = cone.copy()\n",
    "        cone_refl.apply_to_family(refl)\n",
    "        #axis\n",
    "        axis = Arrow3D(\n",
    "            start=[0,0,0],\n",
    "            end=[0,-1,1],\n",
    "            thickness=0.05,\n",
    "            color=GREEN\n",
    "        )\n",
    "        axis_label = Text(\"'n' vector\", color=GREEN).set_shade_in_3d(True)\n",
    "        axis_label.rotate(PI/2, axis=X).rotate(PI/2, axis=Z)\n",
    "        axis_label.next_to([0,-2,0])\n",
    "        # plane\n",
    "        plane = Polyhedron(\n",
    "            vertex_coords = [[6,6,6],[6,-6,-6],[-6,-6,-6],[-6,6,6]],\n",
    "            faces_list = [[0,1,2,3]]\n",
    "        )\n",
    "        plane.set_color(GREEN).set_opacity(0.2)\n",
    "        plane_label = Text(\"'n' plane\", color=GREEN).set_shade_in_3d(True)\n",
    "        plane_label.rotate(PI/2, axis=X).rotate(PI/2, axis=Z)\n",
    "        plane_label.next_to([0,-2.2,-1])\n",
    "        # axis_label.rotate(PI/2, axis=Z)\n",
    "        # self.add(axes, cone, cone_refl, axis, axis_label, plane, plane_label)\n",
    "        self.add(axes, cone)\n",
    "        self.wait()\n",
    "        self.play(\n",
    "            FadeIn(axis, axis_label),\n",
    "            Indicate(code.code.lines_text[10], color=GREEN),\n",
    "        )\n",
    "        code.code.lines_text[10].set_color(GREEN)\n",
    "        self.play(\n",
    "            FadeIn(plane, plane_label),\n",
    "        )\n",
    "        self.wait()\n",
    "        self.play(FadeOut(cone),FadeIn(cone_refl))\n",
    "        self.wait()\n"
   ]
  },
  {
   "cell_type": "markdown",
   "metadata": {},
   "source": [
    "### Skew"
   ]
  },
  {
   "cell_type": "code",
   "execution_count": 20,
   "metadata": {},
   "outputs": [
    {
     "name": "stderr",
     "output_type": "stream",
     "text": [
      "                                                                                                             \r"
     ]
    },
    {
     "data": {
      "text/html": [
       "<video src=\"media\\jupyter\\SkewZ3D@2023-09-16@13-26-22.mp4\" controls autoplay loop style=\"max-width: 60%;\"  >\n",
       "      Your browser does not support the <code>video</code> element.\n",
       "    </video>"
      ],
      "text/plain": [
       "<IPython.core.display.Video object>"
      ]
     },
     "metadata": {},
     "output_type": "display_data"
    }
   ],
   "source": [
    "%%manim -ql -v WARNING SkewZ3D\n",
    "\n",
    "def skew(mobj: MObject):\n",
    "    tr = dim3.skew('z',[0,1,0])\n",
    "    mobj.apply_function(lambda x: dim3.apply(tr, x))\n",
    "\n",
    "def homotopy(x,y,z,t):\n",
    "    tr = dim3.skew('z',t*np.array([0,1,0]))\n",
    "    xp, yp, zp = dim3.apply(tr, [x,y,z])\n",
    "    return (xp, yp, zp)\n",
    "\n",
    "class SkewZ3D(ThreeDScene):\n",
    "    def construct(self):\n",
    "        self.set_camera_orientation(phi=60*DEGREES, theta=-15*DEGREES)\n",
    "        axes = ThreeDAxes()\n",
    "        X, Y, Z = RIGHT, UP, OUT\n",
    "        code = Code(\n",
    "            code=\"dim3.skew('z',s)\", \n",
    "            language='Python', \n",
    "            insert_line_no=False\n",
    "        )\n",
    "        self.add_fixed_in_frame_mobjects(code)\n",
    "        code.to_corner(UL)\n",
    "        code.code.set_color(WHITE)\n",
    "        cube = Cube(side_length=2, fill_opacity=0.8)\n",
    "        cube.shift(1*(Y+Z))\n",
    "        planes = Polyhedron(\n",
    "            vertex_coords = [\n",
    "                [-1,0,0],[1,0,0],[1,2,0],[-1,2,0],\n",
    "                [-1,0,1],[1,0,1],[1,2,1],[-1,2,1],\n",
    "                [-1,0,2],[1,0,2],[1,2,2],[-1,2,2],\n",
    "            ],\n",
    "            faces_list = [[0,1,2,3], [4,5,6,7],[8,9,10,11]]\n",
    "        )\n",
    "        z_hat = Arrow3D(\n",
    "            start = [0,0,0],\n",
    "            end = [0,0,1],\n",
    "            thickness=0.05,\n",
    "            color=GREEN\n",
    "        )\n",
    "        z_label = Text(\"'z' axis\", color=GREEN).set_shade_in_3d(True)\n",
    "        z_label.rotate(PI/2, axis=X).rotate(PI/2, axis=Z)\n",
    "        z_label.next_to([0,-2,0.5])\n",
    "        s_vec = Arrow3D(\n",
    "            start = [0,0,1],\n",
    "            end = [0,1,1],\n",
    "            thickness = 0.05,\n",
    "            color=YELLOW\n",
    "        )\n",
    "        s_label = Text(\"'s' vector\", color=YELLOW).set_shade_in_3d(True)\n",
    "        s_label.rotate(PI/2, axis=X).rotate(PI/2, axis=Z)\n",
    "        s_label.next_to([0,-2,1.2])\n",
    "        cube_skew = cube.copy()\n",
    "        cube_skew.apply_to_family(skew)\n",
    "        # self.add(axes, cube, planes, cube_skew, z_hat,s_vec, z_label, s_label)\n",
    "        self.add(axes, cube, z_hat)\n",
    "        self.wait()\n",
    "        self.play(\n",
    "            cube.animate.set_opacity(0.3),\n",
    "            FadeIn(planes),\n",
    "            FadeIn(z_label),\n",
    "            Indicate(z_hat, color=GREEN),\n",
    "            Indicate(code.code.lines_text[10:13], color=GREEN),\n",
    "        )\n",
    "        code.code.lines_text[10:13].set_color(GREEN)\n",
    "        self.play(\n",
    "            GrowFromPoint(s_vec,s_vec.start),            \n",
    "            FadeIn(s_label),\n",
    "            Indicate(code.code.lines_text[14], color=YELLOW),\n",
    "            Homotopy(homotopy,cube),\n",
    "            Homotopy(homotopy,planes)\n",
    "        )\n",
    "        code.code.lines_text[14].set_color(YELLOW)\n",
    "        self.wait()"
   ]
  },
  {
   "cell_type": "code",
   "execution_count": 25,
   "metadata": {},
   "outputs": [
    {
     "name": "stderr",
     "output_type": "stream",
     "text": [
      "                                                                                                           \r"
     ]
    },
    {
     "data": {
      "text/html": [
       "<video src=\"media\\jupyter\\SkewN3D@2023-09-16@13-54-27.mp4\" controls autoplay loop style=\"max-width: 60%;\"  >\n",
       "      Your browser does not support the <code>video</code> element.\n",
       "    </video>"
      ],
      "text/plain": [
       "<IPython.core.display.Video object>"
      ]
     },
     "metadata": {},
     "output_type": "display_data"
    }
   ],
   "source": [
    "%%manim -ql -v WARNING SkewN3D\n",
    "\n",
    "n = np.array([0,-1,2])/np.sqrt(5)\n",
    "s = np.array([0,2,1])/np.sqrt(5)\n",
    "\n",
    "def skew(mobj: MObject):\n",
    "    tr = dim3.skew(n,s)\n",
    "    mobj.apply_function(lambda x: dim3.apply(tr, x))\n",
    "\n",
    "def homotopy(x,y,z,t):\n",
    "    tr = dim3.skew(n,t*s)\n",
    "    xp, yp, zp = dim3.apply(tr, [x,y,z])\n",
    "    return (xp, yp, zp)\n",
    "\n",
    "class SkewN3D(ThreeDScene):\n",
    "    def construct(self):\n",
    "        self.set_camera_orientation(phi=60*DEGREES, theta=-15*DEGREES)\n",
    "        axes = ThreeDAxes()\n",
    "        X, Y, Z = RIGHT, UP, OUT\n",
    "        code = Code(\n",
    "            code=\"dim3.skew(n,s)\", \n",
    "            language='Python', \n",
    "            insert_line_no=False\n",
    "        )\n",
    "        self.add_fixed_in_frame_mobjects(code)\n",
    "        code.to_corner(UL)\n",
    "        code.code.set_color(WHITE)\n",
    "        cube = Cube(side_length=2, fill_opacity=0.8)\n",
    "        cube.shift(1*(Y+Z))\n",
    "        z1l = 2.5/np.sqrt(5)\n",
    "        z1r = z1l + 1\n",
    "        y2 = 2-(z1r-2)*2\n",
    "        planes = Polyhedron(\n",
    "            vertex_coords = [\n",
    "                [-1,0,0],[1,0,0],[1,2,1],[-1,2,1],\n",
    "                [-1,0,z1l],[1,0,z1l],[1,y2,2],[-1,y2,2],\n",
    "            ],\n",
    "            faces_list = [[0,1,2,3],[4,5,6,7]]\n",
    "        )\n",
    "        shift = np.array([0,1/np.sqrt(5),0])\n",
    "        z_hat = Arrow3D(\n",
    "            start = [0,0,0],\n",
    "            end = n,\n",
    "            thickness=0.05,\n",
    "            color=GREEN\n",
    "        )\n",
    "        z_label = Text(\"'n' vector\", color=GREEN).set_shade_in_3d(True)\n",
    "        z_label.rotate(PI/2, axis=X).rotate(PI/2, axis=Z)\n",
    "        z_label.next_to([0,-2,0.5])\n",
    "        s_start = np.array([0,0,z1l])\n",
    "        s_vec = Arrow3D(\n",
    "            start = s_start,\n",
    "            end = s+s_start,\n",
    "            thickness = 0.05,\n",
    "            color=YELLOW\n",
    "        )\n",
    "        s_label = Text(\"'s' vector\", color=YELLOW).set_shade_in_3d(True)\n",
    "        s_label.rotate(PI/2, axis=X).rotate(PI/2, axis=Z)\n",
    "        s_label.next_to([0,-2,1.2])\n",
    "        cube_skew = cube.copy()\n",
    "        cube_skew.apply_to_family(skew)\n",
    "        # self.add(axes, cube, planes, cube_skew, z_hat,s_vec, z_label, s_label)\n",
    "        self.add(axes, cube, z_hat)\n",
    "        self.wait()\n",
    "        self.play(\n",
    "            cube.animate.set_opacity(0.3),\n",
    "            FadeIn(planes),\n",
    "            FadeIn(z_label),\n",
    "            Indicate(z_hat, color=GREEN),\n",
    "            Indicate(code.code.lines_text[10], color=GREEN),\n",
    "        )\n",
    "        code.code.lines_text[10].set_color(GREEN)\n",
    "        self.play(\n",
    "            FadeIn(s_label),\n",
    "            GrowFromPoint(s_vec, s_vec.start),\n",
    "            Indicate(code.code.lines_text[12], color=YELLOW),\n",
    "            Homotopy(homotopy,cube),\n",
    "            Homotopy(homotopy,planes)\n",
    "        )\n",
    "        code.code.lines_text[12].set_color(YELLOW)\n",
    "        self.wait()"
   ]
  },
  {
   "cell_type": "markdown",
   "metadata": {},
   "source": [
    "### 2D transformations"
   ]
  },
  {
   "cell_type": "markdown",
   "metadata": {},
   "source": [
    "#### Translation"
   ]
  },
  {
   "cell_type": "markdown",
   "metadata": {},
   "source": [
    "#### Scale"
   ]
  },
  {
   "cell_type": "markdown",
   "metadata": {},
   "source": [
    "#### Rotation"
   ]
  },
  {
   "cell_type": "markdown",
   "metadata": {},
   "source": [
    "#### Reflection"
   ]
  },
  {
   "cell_type": "markdown",
   "metadata": {},
   "source": [
    "#### Skew"
   ]
  },
  {
   "cell_type": "code",
   "execution_count": 2,
   "metadata": {},
   "outputs": [
    {
     "name": "stderr",
     "output_type": "stream",
     "text": [
      "                                                                                          \r"
     ]
    },
    {
     "data": {
      "text/html": [
       "<video src=\"media/jupyter/SquareToCircle@2023-09-10@12-47-25.mp4\" controls autoplay loop style=\"max-width: 60%;\"  >\n",
       "      Your browser does not support the <code>video</code> element.\n",
       "    </video>"
      ],
      "text/plain": [
       "<IPython.core.display.Video object>"
      ]
     },
     "metadata": {},
     "output_type": "display_data"
    }
   ],
   "source": [
    "%%manim -qm -v WARNING SquareToCircle\n",
    "\n",
    "class SquareToCircle(Scene):\n",
    "   def construct(self):\n",
    "      square = Square()\n",
    "      circle = Circle()\n",
    "      circle.set_fill(PINK, opacity=0.5)\n",
    "      self.play(Create(square))\n",
    "      self.play(Transform(square, circle))\n",
    "      self.wait()"
   ]
  },
  {
   "cell_type": "code",
   "execution_count": null,
   "metadata": {},
   "outputs": [],
   "source": []
  }
 ],
 "metadata": {
  "kernelspec": {
   "display_name": "Python 3 (ipykernel)",
   "language": "python",
   "name": "python3"
  },
  "language_info": {
   "codemirror_mode": {
    "name": "ipython",
    "version": 3
   },
   "file_extension": ".py",
   "mimetype": "text/x-python",
   "name": "python",
   "nbconvert_exporter": "python",
   "pygments_lexer": "ipython3",
   "version": "3.10.12"
  }
 },
 "nbformat": 4,
 "nbformat_minor": 4
}
