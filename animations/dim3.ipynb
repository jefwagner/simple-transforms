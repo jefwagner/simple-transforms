{
 "cells": [
  {
   "cell_type": "code",
   "execution_count": 2,
   "metadata": {},
   "outputs": [
    {
     "data": {
      "text/html": [
       "<pre style=\"white-space:pre;overflow-x:auto;line-height:normal;font-family:Menlo,'DejaVu Sans Mono',consolas,'Courier New',monospace\">Manim Community <span style=\"color: #008000; text-decoration-color: #008000\">v0.17.3</span>\n",
       "\n",
       "</pre>\n"
      ],
      "text/plain": [
       "Manim Community \u001b[32mv0.\u001b[0m\u001b[32m17.3\u001b[0m\n",
       "\n"
      ]
     },
     "metadata": {},
     "output_type": "display_data"
    }
   ],
   "source": [
    "from manim import *"
   ]
  },
  {
   "cell_type": "code",
   "execution_count": 3,
   "metadata": {},
   "outputs": [],
   "source": [
    "import numpy as np\n",
    "from simple_transforms import dim3, dim2"
   ]
  },
  {
   "cell_type": "markdown",
   "metadata": {},
   "source": [
    "## Figures for transformations"
   ]
  },
  {
   "cell_type": "markdown",
   "metadata": {},
   "source": [
    "The main task here will be coming up with animations using MANIM that clearly demonstrate the effects of the transformation matrices created by the simple-transform python package. The main tool will be to use the `Homotopy` animation routine for MObjects. It works\n",
    "by creating a homotopy function `h` that maps a 3-point point to another point as a function of t. at t=0, the function should be the identity, and at t=1, the full function should be applied. The homotopy `h` function is then used in an MANIM scene to manipulate MObjects through an animation. Below is an example for creating and using a homotopy function for a translation.\n",
    "\n",
    "```python\n",
    "def h(x,y,z,t):\n",
    "    dx = np.array([1,1,1])\n",
    "    tr = dim3.trans(t*dx)\n",
    "    xp, yp, zp = dim3.apply(tr, [x,y,z])\n",
    "    return (xp, yp, zp)\n",
    "\n",
    "MyScene(ThreeDScene):\n",
    "    def construct(self):\n",
    "        ...\n",
    "        self.play(Homotopy(h, mobjs))\n",
    "        ...    \n",
    "\n",
    "```"
   ]
  },
  {
   "cell_type": "markdown",
   "metadata": {},
   "source": [
    "### Translation"
   ]
  },
  {
   "cell_type": "code",
   "execution_count": 23,
   "metadata": {},
   "outputs": [
    {
     "name": "stderr",
     "output_type": "stream",
     "text": [
      "                                                                                          \r"
     ]
    },
    {
     "data": {
      "text/html": [
       "<video src=\"media/jupyter/Translate3D@2023-09-12@20-04-41.mp4\" controls autoplay loop style=\"max-width: 60%;\"  >\n",
       "      Your browser does not support the <code>video</code> element.\n",
       "    </video>"
      ],
      "text/plain": [
       "<IPython.core.display.Video object>"
      ]
     },
     "metadata": {},
     "output_type": "display_data"
    }
   ],
   "source": [
    "%%manim -ql -v WARNING Translate3D\n",
    "\n",
    "def homotopy(x,y,z,t):\n",
    "    d = np.array([-1,4,2])\n",
    "    tr = dim3.trans(t*d)\n",
    "    xp, yp, zp = dim3.apply(tr, [x,y,z])\n",
    "    return (xp, yp, zp)\n",
    "\n",
    "class Translate3D(ThreeDScene):\n",
    "    def construct(self):\n",
    "        self.set_camera_orientation(phi=75*DEGREES, theta=-15*DEGREES)\n",
    "        axes = ThreeDAxes()\n",
    "        X, Y, Z = RIGHT, UP, OUT\n",
    "        code = Code(\n",
    "            code=\"dim3.trans(d)\", \n",
    "            language='Python', \n",
    "            insert_line_no=False\n",
    "        )\n",
    "        self.add_fixed_in_frame_mobjects(code)\n",
    "        code.to_corner(UL)\n",
    "        code.code.set_color(WHITE)\n",
    "        cube = Cube(side_length=1, fill_opacity=0.8)\n",
    "        cube.shift(0.5*(X+Y+Z)-2*Y-Z)\n",
    "        start = [1,-1,-1]\n",
    "        end = [0,3,1]\n",
    "        axis = Arrow3D(\n",
    "            start=start,\n",
    "            end=end,\n",
    "            thickness=0.05,\n",
    "            color=RED\n",
    "        )\n",
    "        axis_label = Text(\"'d' vector\", color=RED).set_shade_in_3d(True)\n",
    "        axis_label.rotate(PI/2, axis=X).rotate(PI/2, axis=Z)\n",
    "        axis_label.next_to([0,3,-1])\n",
    "        self.add(axes, cube, axis)\n",
    "        self.wait()\n",
    "        self.play(\n",
    "            FadeIn(axis_label), \n",
    "            Indicate(axis, color=RED), \n",
    "            Indicate(code.code.lines_text[11], color=RED),\n",
    "        )\n",
    "        code.code.lines_text[11].set_color(RED))\n",
    "        self.wait()\n",
    "        self.play(Homotopy(homotopy, cube))\n",
    "        self.wait()"
   ]
  },
  {
   "cell_type": "markdown",
   "metadata": {},
   "source": [
    "### Scale"
   ]
  },
  {
   "cell_type": "code",
   "execution_count": 3,
   "metadata": {},
   "outputs": [
    {
     "name": "stderr",
     "output_type": "stream",
     "text": [
      "                                                                                          \r"
     ]
    },
    {
     "data": {
      "text/html": [
       "<video src=\"media/jupyter/Scale3D@2023-09-13@18-10-15.mp4\" controls autoplay loop style=\"max-width: 60%;\"  >\n",
       "      Your browser does not support the <code>video</code> element.\n",
       "    </video>"
      ],
      "text/plain": [
       "<IPython.core.display.Video object>"
      ]
     },
     "metadata": {},
     "output_type": "display_data"
    }
   ],
   "source": [
    "%%manim -ql -v WARNING Scale3D\n",
    "\n",
    "def homotopy(x,y,z,t):\n",
    "    s = 3\n",
    "    tr = dim3.scale(t*(s-1)+1)\n",
    "    xp, yp, zp = dim3.apply(tr, [x,y,z])\n",
    "    return (xp, yp, zp)\n",
    "\n",
    "class Scale3D(ThreeDScene):\n",
    "    def construct(self):\n",
    "        self.set_camera_orientation(phi=75*DEGREES, theta=-15*DEGREES)\n",
    "        axes = ThreeDAxes()\n",
    "        X, Y, Z = RIGHT, UP, OUT\n",
    "        code = Code(\n",
    "            code=\"dim3.scale(s)\", \n",
    "            language='Python', \n",
    "            insert_line_no=False\n",
    "        )\n",
    "        self.add_fixed_in_frame_mobjects(code)\n",
    "        code.to_corner(UL)\n",
    "        code.code.set_color(WHITE)\n",
    "        cube = Cube(side_length=1, fill_opacity=0.8)\n",
    "        cube.shift(0.5*(X+Y+Z))\n",
    "        axis = Line3D(\n",
    "            start=[0,0,0],\n",
    "            end=[3,0,0],\n",
    "            thickness=0.05,\n",
    "            color=YELLOW\n",
    "        )\n",
    "        axis_label = Text(\"s\", color=YELLOW).set_shade_in_3d(True)\n",
    "        axis_label.rotate(PI/2, axis=X).rotate(PI/2, axis=Z)\n",
    "        axis_label.next_to([1.5,-0.5,0])\n",
    "        self.add(axes, cube)#, axis)\n",
    "        self.wait()\n",
    "        self.play(\n",
    "            FadeIn(axis), \n",
    "            FadeIn(axis_label), \n",
    "            Indicate(code.code.lines_text[11])\n",
    "        )\n",
    "        code.code.lines_text[11].set_color(YELLOW)\n",
    "        # self.play(FadeIn(axis_label), Indicate(axis), Indicate(code.code.lines_text[11]))\n",
    "        self.wait()\n",
    "        self.play(Homotopy(homotopy, cube))\n",
    "        self.wait()"
   ]
  },
  {
   "cell_type": "code",
   "execution_count": 4,
   "metadata": {},
   "outputs": [
    {
     "name": "stderr",
     "output_type": "stream",
     "text": [
      "                                                                                          \r"
     ]
    },
    {
     "data": {
      "text/html": [
       "<video src=\"media/jupyter/ScaleVec3D@2023-09-13@18-29-36.mp4\" controls autoplay loop style=\"max-width: 60%;\"  >\n",
       "      Your browser does not support the <code>video</code> element.\n",
       "    </video>"
      ],
      "text/plain": [
       "<IPython.core.display.Video object>"
      ]
     },
     "metadata": {},
     "output_type": "display_data"
    }
   ],
   "source": [
    "%%manim -ql -v WARNING ScaleVec3D\n",
    "\n",
    "def homotopy(x,y,z,t):\n",
    "    s = np.array([1.5,3,2])\n",
    "    tr = dim3.scale(t*(s-np.array([1,1,1]))+np.array([1,1,1]))\n",
    "    xp, yp, zp = dim3.apply(tr, [x,y,z])\n",
    "    return (xp, yp, zp)\n",
    "\n",
    "class ScaleVec3D(ThreeDScene):\n",
    "    def construct(self):\n",
    "        self.set_camera_orientation(phi=75*DEGREES, theta=-15*DEGREES)\n",
    "        axes = ThreeDAxes()\n",
    "        X, Y, Z = RIGHT, UP, OUT\n",
    "        code = Code(\n",
    "            code=\"dim3.scale([sx, sy, sz])\", \n",
    "            language='Python', \n",
    "            insert_line_no=False\n",
    "        )\n",
    "        self.add_fixed_in_frame_mobjects(code)\n",
    "        code.to_corner(UL)\n",
    "        cube = Cube(side_length=1, fill_opacity=0.8)\n",
    "        cube.shift(0.5*(X+Y+Z))\n",
    "        x_axis = Arrow3D(\n",
    "            start=[0,0,0],\n",
    "            end=[1.5,0,0],\n",
    "            thickness=0.05,\n",
    "            color=YELLOW\n",
    "        )\n",
    "        x_axis_label = Text(\"sx\", color=YELLOW).set_shade_in_3d(True)\n",
    "        x_axis_label.rotate(PI/2, axis=X).rotate(PI/2, axis=Z)\n",
    "        x_axis_label.next_to([0.75,-0.5,0])\n",
    "        y_axis = Arrow3D(\n",
    "            start=[0,0,0],\n",
    "            end=[0,3,0],\n",
    "            thickness=0.05,\n",
    "            color=GREEN\n",
    "        )\n",
    "        y_axis_label = Text(\"sy\", color=GREEN).set_shade_in_3d(True)\n",
    "        y_axis_label.rotate(PI/2, axis=X).rotate(PI/2, axis=Z)\n",
    "        y_axis_label.next_to([1.5,1.5,-0.5])\n",
    "        z_axis = Arrow3D(\n",
    "            start=[0,0,0],\n",
    "            end=[0,0,2],\n",
    "            thickness=0.05,\n",
    "            color=RED\n",
    "        )\n",
    "        z_axis_label = Text(\"sz\", color=RED).set_shade_in_3d(True)\n",
    "        z_axis_label.rotate(PI/2, axis=X).rotate(PI/2, axis=Z)\n",
    "        z_axis_label.next_to([0,0,2.5])\n",
    "        self.add(axes, cube)#, axis)\n",
    "        self.wait()\n",
    "        self.play(\n",
    "            FadeIn(x_axis),\n",
    "            FadeIn(x_axis_label),\n",
    "            Indicate(code.code.lines_text[12:14]),\n",
    "        )\n",
    "        code.code.lines_text[12:14].set_color(YELLOW)\n",
    "        self.play(\n",
    "            FadeIn(y_axis),\n",
    "            FadeIn(y_axis_label),\n",
    "            Indicate(code.code.lines_text[16:18], color=GREEN),\n",
    "        )\n",
    "        code.code.lines_text[16:18].set_color(GREEN)\n",
    "        self.play(\n",
    "            FadeIn(z_axis),\n",
    "            FadeIn(z_axis_label),\n",
    "            Indicate(code.code.lines_text[20:22], color=RED),\n",
    "        )\n",
    "        code.code.lines_text[20:22].set_color(RED)\n",
    "        # self.play(FadeIn(axis_label), Indicate(axis), Indicate(code.code.lines_text[12:14]))\n",
    "        self.wait()\n",
    "        self.play(Homotopy(homotopy, cube))\n",
    "        self.wait()"
   ]
  },
  {
   "cell_type": "markdown",
   "metadata": {},
   "source": [
    "#### Rotation"
   ]
  },
  {
   "cell_type": "code",
   "execution_count": 15,
   "metadata": {},
   "outputs": [
    {
     "name": "stderr",
     "output_type": "stream",
     "text": [
      "                                                                                          \r"
     ]
    },
    {
     "data": {
      "text/html": [
       "<video src=\"media/jupyter/RotateX3D@2023-09-13@19-08-42.mp4\" controls autoplay loop style=\"max-width: 60%;\"  >\n",
       "      Your browser does not support the <code>video</code> element.\n",
       "    </video>"
      ],
      "text/plain": [
       "<IPython.core.display.Video object>"
      ]
     },
     "metadata": {},
     "output_type": "display_data"
    }
   ],
   "source": [
    "%%manim -ql -v WARNING RotateX3D\n",
    "\n",
    "phi = np.pi/2\n",
    "\n",
    "def homotopy(x,y,z,t):\n",
    "    tr = dim3.rot('x',t*phi)\n",
    "    xp, yp, zp = dim3.apply(tr, [x,y,z])\n",
    "    return (xp, yp, zp)\n",
    "\n",
    "class RotateX3D(ThreeDScene):\n",
    "    def construct(self):\n",
    "        self.set_camera_orientation(phi=60*DEGREES, theta=15*DEGREES)\n",
    "        axes = ThreeDAxes()\n",
    "        X, Y, Z = RIGHT, UP, OUT\n",
    "        code = Code(\n",
    "            code=\"dim3.rot('x',phi)\", \n",
    "            language='Python', \n",
    "            insert_line_no=False\n",
    "        )\n",
    "        self.add_fixed_in_frame_mobjects(code)\n",
    "        code.to_corner(UL)\n",
    "        code.code.set_color(WHITE)\n",
    "        cube = Cube(side_length=2, fill_opacity=0.8)\n",
    "        cube.shift(1*(X+Y+Z))\n",
    "        # Axis of rotation\n",
    "        axis = Arrow3D(\n",
    "            start=[0,0,0],\n",
    "            end=[2.5,0,0],\n",
    "            thickness=0.05,\n",
    "            color=GREEN\n",
    "        )\n",
    "        axis_label = Text(\"'x' axis\", color=GREEN).set_shade_in_3d(True)\n",
    "        axis_label.rotate(PI/2, axis=X).rotate(PI/2, axis=Z)\n",
    "        axis_label.next_to([3,0,0])\n",
    "        # Arc of rotation\n",
    "        arc = axes.plot_parametric_curve(\n",
    "            lambda t: np.array([2,1.5*np.cos(t*phi),1.5*np.sin(t*phi)]),\n",
    "            t_range = [0,1],\n",
    "            color=YELLOW\n",
    "        )\n",
    "        arc2 = axes.plot_parametric_curve(\n",
    "            lambda t: np.array([2,(1.0+t)*np.cos(phi),(1.0+t)*np.sin(phi)]),\n",
    "            t_range = [0,1],\n",
    "            color=YELLOW\n",
    "        )\n",
    "        arc_label = Text(\"phi\", color=YELLOW).set_shade_in_3d(True)\n",
    "        arc_label.rotate(PI/2, axis=X).rotate(PI/2, axis=Z)\n",
    "        arc_label.next_to([2,2,-0.5])\n",
    "        self.add(axes, cube, axis)\n",
    "        self.wait()\n",
    "        self.play(\n",
    "            Indicate(axis, color=GREEN),\n",
    "            FadeIn(axis_label),\n",
    "            Indicate(code.code.lines_text[9:12], color=GREEN),\n",
    "        )\n",
    "        code.code.lines_text[9:12].set_color(GREEN)\n",
    "        self.play(\n",
    "            FadeIn(arc, arc2, arc_label),\n",
    "            Indicate(code.code.lines_text[9:12])\n",
    "        )\n",
    "        code.code.lines_text[13:16].set_color(YELLOW)\n",
    "        self.wait()\n",
    "        self.play(Homotopy(homotopy, cube))\n",
    "        self.wait()\n"
   ]
  },
  {
   "cell_type": "code",
   "execution_count": 19,
   "metadata": {},
   "outputs": [
    {
     "name": "stderr",
     "output_type": "stream",
     "text": [
      "                                                                                          \r"
     ]
    },
    {
     "data": {
      "text/html": [
       "<video src=\"media/jupyter/RotateZ3D@2023-09-13@19-47-28.mp4\" controls autoplay loop style=\"max-width: 60%;\"  >\n",
       "      Your browser does not support the <code>video</code> element.\n",
       "    </video>"
      ],
      "text/plain": [
       "<IPython.core.display.Video object>"
      ]
     },
     "metadata": {},
     "output_type": "display_data"
    }
   ],
   "source": [
    "%%manim -ql -v WARNING RotateZ3D\n",
    "\n",
    "phi = 2*np.pi/3\n",
    "\n",
    "def homotopy(x,y,z,t):\n",
    "    tr = dim3.rot('z',t*phi)\n",
    "    xp, yp, zp = dim3.apply(tr, [x,y,z])\n",
    "    return (xp, yp, zp)\n",
    "\n",
    "class RotateZ3D(ThreeDScene):\n",
    "    def construct(self):\n",
    "        self.set_camera_orientation(phi=60*DEGREES, theta=15*DEGREES)\n",
    "        axes = ThreeDAxes()\n",
    "        X, Y, Z = RIGHT, UP, OUT\n",
    "        code = Code(\n",
    "            code=\"dim3.rot('z',phi)\", \n",
    "            language='Python', \n",
    "            insert_line_no=False\n",
    "        )\n",
    "        self.add_fixed_in_frame_mobjects(code)\n",
    "        code.to_corner(UL)\n",
    "        cube = Cube(side_length=2, fill_opacity=0.8)\n",
    "        cube.shift(1*(X-Y+Z))\n",
    "        code.code.set_color(WHITE)\n",
    "        # Axis of rotation\n",
    "        axis = Arrow3D(\n",
    "            start=[0,0,0],\n",
    "            end=[0,0,2.5],\n",
    "            thickness=0.05,\n",
    "            color=GREEN\n",
    "        )\n",
    "        axis_label = Text(\"'z' axis\", color=GREEN).set_shade_in_3d(True)\n",
    "        axis_label.rotate(PI/2, axis=X).rotate(PI/2, axis=Z)\n",
    "        axis_label.next_to([0,0,3])\n",
    "        # Arc of rotation\n",
    "        arc = axes.plot_parametric_curve(\n",
    "            lambda t: np.array([1.5*np.cos(t*phi),1.5*np.sin(t*phi),0]),\n",
    "            t_range = [0,1],\n",
    "            color=YELLOW\n",
    "        )\n",
    "        arc2 = axes.plot_parametric_curve(\n",
    "            lambda t: np.array([(1.0+t)*np.cos(phi),(1.0+t)*np.sin(phi),0]),\n",
    "            t_range = [0,1],\n",
    "            color=YELLOW\n",
    "        )\n",
    "        arc_label = Text(\"phi\", color=YELLOW).set_shade_in_3d(True)\n",
    "        arc_label.rotate(PI/2, axis=X).rotate(PI/2, axis=Z)\n",
    "        arc_label.next_to([1.717,1.717,0])\n",
    "        # axis_label.rotate(PI/2, axis=Z)\n",
    "        self.add(axes, cube, axis)\n",
    "        self.wait()\n",
    "        self.play(\n",
    "            Indicate(axis, color=GREEN),\n",
    "            FadeIn(axis_label),\n",
    "            Indicate(code.code.lines_text[9:12], color=GREEN),\n",
    "        )\n",
    "        code.code.lines_text[9:12].set_color(GREEN)\n",
    "        self.play(\n",
    "            FadeIn(arc, arc2, arc_label),\n",
    "            Indicate(code.code.lines_text[13:16])\n",
    "        )\n",
    "        code.code.lines_text[13:16].set_color(YELLOW)\n",
    "        self.wait()\n",
    "        self.play(Homotopy(homotopy, cube))\n",
    "        self.wait()\n"
   ]
  },
  {
   "cell_type": "code",
   "execution_count": 36,
   "metadata": {},
   "outputs": [
    {
     "name": "stderr",
     "output_type": "stream",
     "text": [
      "                                                                                          \r"
     ]
    },
    {
     "data": {
      "text/html": [
       "<video src=\"media/jupyter/RotateAA3D@2023-09-13@20-58-09.mp4\" controls autoplay loop style=\"max-width: 60%;\"  >\n",
       "      Your browser does not support the <code>video</code> element.\n",
       "    </video>"
      ],
      "text/plain": [
       "<IPython.core.display.Video object>"
      ]
     },
     "metadata": {},
     "output_type": "display_data"
    }
   ],
   "source": [
    "%%manim -ql -v WARNING RotateAA3D\n",
    "\n",
    "phi = 2*np.pi/3\n",
    "\n",
    "def homotopy(x,y,z,t):\n",
    "    tr = dim3.rot([1,1,1],t*phi)\n",
    "    xp, yp, zp = dim3.apply(tr, [x,y,z])\n",
    "    return (xp, yp, zp)\n",
    "\n",
    "class RotateAA3D(ThreeDScene):\n",
    "    def construct(self):\n",
    "        self.set_camera_orientation(phi=60*DEGREES, theta=-15*DEGREES)\n",
    "        axes = ThreeDAxes()\n",
    "        X, Y, Z = RIGHT, UP, OUT\n",
    "        code = Code(\n",
    "            code=\"dim3.rot(a,phi)\", \n",
    "            language='Python', \n",
    "            insert_line_no=False\n",
    "        )\n",
    "        self.add_fixed_in_frame_mobjects(code)\n",
    "        code.to_corner(UL)\n",
    "        code.code.set_color(WHITE)\n",
    "        cube = Cube(side_length=2, fill_opacity=0.8)\n",
    "        cube.shift(1*(X+Y+Z))\n",
    "        # axis or rotation\n",
    "        axis = Arrow3D(\n",
    "            start=[0,0,0],\n",
    "            end=[2.5,2.5,2.5],\n",
    "            thickness=0.05,\n",
    "            color=GREEN\n",
    "        )\n",
    "        axis_label = Text(\"'a' vector\", color=GREEN).set_shade_in_3d(True)\n",
    "        axis_label.rotate(PI/2, axis=X).rotate(PI/2, axis=Z)\n",
    "        axis_label.next_to([3,3,3.5])\n",
    "        # Arc of rotation\n",
    "        arc = axes.plot_parametric_curve(\n",
    "            lambda t: dim3.apply(dim3.rot([1,1,1],t*phi),[0,2.10,2.10]).astype(np.float64),\n",
    "            t_range = [0,1],\n",
    "            color=YELLOW\n",
    "        )\n",
    "        arc_label = Text(\"phi\", color=YELLOW).set_shade_in_3d(True)\n",
    "        arc_label.rotate(PI/2, axis=X).rotate(PI/2, axis=Z)\n",
    "        arc_label.next_to([0.4,0.5,2.8])\n",
    "        # axis_label.rotate(PI/2, axis=Z)\n",
    "        self.add(axes, cube, axis)\n",
    "        self.wait()\n",
    "        self.play(\n",
    "            Indicate(axis, color=GREEN),\n",
    "            FadeIn(axis_label),\n",
    "            Indicate(code.code.lines_text[9], color=GREEN),\n",
    "        )\n",
    "        code.code.lines_text[9].set_color(GREEN)\n",
    "        self.play(\n",
    "            FadeIn(arc, arc_label),\n",
    "            Indicate(code.code.lines_text[11:14])\n",
    "        )\n",
    "        code.code.lines_text[11:14].set_color(YELLOW)\n",
    "        self.wait()\n",
    "        self.play(Homotopy(homotopy,cube))\n",
    "        self.wait()\n"
   ]
  },
  {
   "cell_type": "markdown",
   "metadata": {},
   "source": [
    "#### Reflection"
   ]
  },
  {
   "cell_type": "code",
   "execution_count": 35,
   "metadata": {},
   "outputs": [
    {
     "name": "stderr",
     "output_type": "stream",
     "text": [
      "                                                                                          \r"
     ]
    },
    {
     "data": {
      "text/html": [
       "<video src=\"media/jupyter/ReflZ3D@2023-09-15@18-40-55.mp4\" controls autoplay loop style=\"max-width: 60%;\"  >\n",
       "      Your browser does not support the <code>video</code> element.\n",
       "    </video>"
      ],
      "text/plain": [
       "<IPython.core.display.Video object>"
      ]
     },
     "metadata": {},
     "output_type": "display_data"
    }
   ],
   "source": [
    "%%manim -ql -v WARNING ReflZ3D\n",
    "\n",
    "def refl(mobj: MObject):\n",
    "    tr = dim3.refl('z')\n",
    "    mobj.apply_function(lambda x: dim3.apply(tr, x))\n",
    "\n",
    "class ReflZ3D(ThreeDScene):\n",
    "    def construct(self):\n",
    "        self.set_camera_orientation(phi=60*DEGREES, theta=-15*DEGREES)\n",
    "        axes = ThreeDAxes()\n",
    "        X, Y, Z = RIGHT, UP, OUT\n",
    "        code = Code(\n",
    "            code=\"dim3.refl('z')\", \n",
    "            language='Python', \n",
    "            insert_line_no=False\n",
    "        )\n",
    "        self.add_fixed_in_frame_mobjects(code)\n",
    "        code.to_corner(UL)\n",
    "        code.code.set_color(WHITE)\n",
    "        # original cone\n",
    "        cone = Cone(base_radius=1, height=2, fill_opacity=0.8)\n",
    "        cone.shift(-Y+2*Z)\n",
    "        # reflected cone\n",
    "        cone_refl = cone.copy()\n",
    "        cone_refl.apply_to_family(refl)\n",
    "        #axis\n",
    "        axis = Arrow3D(\n",
    "            start=[0,0,0],\n",
    "            end=[0,0,1],\n",
    "            thickness=0.05,\n",
    "            color=GREEN\n",
    "        )\n",
    "        axis_label = Text(\"'z' axis\", color=GREEN).set_shade_in_3d(True)\n",
    "        axis_label.rotate(PI/2, axis=X).rotate(PI/2, axis=Z)\n",
    "        axis_label.next_to([0,1.5,0.5])\n",
    "        # plane\n",
    "        plane = Polyhedron(\n",
    "            vertex_coords = [[6,6,0],[6,-6,0],[-6,-6,0],[-6,6,0]],\n",
    "            faces_list = [[0,1,2,3]]\n",
    "        )\n",
    "        plane.set_color(GREEN).set_opacity(0.2)\n",
    "        plane_label = Text(\"'z' plane\", color=GREEN).set_shade_in_3d(True)\n",
    "        plane_label.rotate(PI/2, axis=X).rotate(PI/2, axis=Z)\n",
    "        plane_label.next_to([0,1.8,-0.5])\n",
    "        # axis_label.rotate(PI/2, axis=Z)\n",
    "        self.add(axes, cone)\n",
    "        self.wait()\n",
    "        self.play(\n",
    "            FadeIn(axis, axis_label),\n",
    "            Indicate(code.code.lines_text[10:13], color=GREEN),\n",
    "        )\n",
    "        code.code.lines_text[10:13].set_color(GREEN)\n",
    "        self.play(\n",
    "            FadeIn(plane, plane_label),\n",
    "        )\n",
    "        self.wait()\n",
    "        self.play(FadeOut(cone),FadeIn(cone_refl))\n",
    "        self.wait()\n"
   ]
  },
  {
   "cell_type": "code",
   "execution_count": 41,
   "metadata": {},
   "outputs": [
    {
     "name": "stderr",
     "output_type": "stream",
     "text": [
      "                                                                                          \r"
     ]
    },
    {
     "data": {
      "text/html": [
       "<video src=\"media/jupyter/ReflN3D@2023-09-15@20-17-54.mp4\" controls autoplay loop style=\"max-width: 60%;\"  >\n",
       "      Your browser does not support the <code>video</code> element.\n",
       "    </video>"
      ],
      "text/plain": [
       "<IPython.core.display.Video object>"
      ]
     },
     "metadata": {},
     "output_type": "display_data"
    }
   ],
   "source": [
    "%%manim -ql -v WARNING ReflN3D\n",
    "\n",
    "n = [0,-1,1]\n",
    "\n",
    "def refl(mobj: MObject):\n",
    "    tr = dim3.refl(n)\n",
    "    mobj.apply_function(lambda x: dim3.apply(tr, x))\n",
    "\n",
    "class ReflN3D(ThreeDScene):\n",
    "    def construct(self):\n",
    "        self.set_camera_orientation(phi=60*DEGREES, theta=-15*DEGREES)\n",
    "        axes = ThreeDAxes()\n",
    "        X, Y, Z = RIGHT, UP, OUT\n",
    "        code = Code(\n",
    "            code=\"dim3.refl(n)\", \n",
    "            language='Python', \n",
    "            insert_line_no=False\n",
    "        )\n",
    "        self.add_fixed_in_frame_mobjects(code)\n",
    "        code.to_corner(UL)\n",
    "        code.code.set_color(WHITE)\n",
    "        # original cone\n",
    "        cone = Cone(base_radius=1, height=2, fill_opacity=0.8)\n",
    "        cone.shift(+Y+2*Z)\n",
    "        # reflected cone\n",
    "        cone_refl = cone.copy()\n",
    "        cone_refl.apply_to_family(refl)\n",
    "        #axis\n",
    "        axis = Arrow3D(\n",
    "            start=[0,0,0],\n",
    "            end=[0,-1,1],\n",
    "            thickness=0.05,\n",
    "            color=GREEN\n",
    "        )\n",
    "        axis_label = Text(\"'n' vector\", color=GREEN).set_shade_in_3d(True)\n",
    "        axis_label.rotate(PI/2, axis=X).rotate(PI/2, axis=Z)\n",
    "        axis_label.next_to([0,-2,0])\n",
    "        # plane\n",
    "        plane = Polyhedron(\n",
    "            vertex_coords = [[6,6,6],[6,-6,-6],[-6,-6,-6],[-6,6,6]],\n",
    "            faces_list = [[0,1,2,3]]\n",
    "        )\n",
    "        plane.set_color(GREEN).set_opacity(0.2)\n",
    "        plane_label = Text(\"'n' plane\", color=GREEN).set_shade_in_3d(True)\n",
    "        plane_label.rotate(PI/2, axis=X).rotate(PI/2, axis=Z)\n",
    "        plane_label.next_to([0,-2.2,-1])\n",
    "        # axis_label.rotate(PI/2, axis=Z)\n",
    "        # self.add(axes, cone, cone_refl, axis, axis_label, plane, plane_label)\n",
    "        self.add(axes, cone)\n",
    "        self.wait()\n",
    "        self.play(\n",
    "            FadeIn(axis, axis_label),\n",
    "            Indicate(code.code.lines_text[10], color=GREEN),\n",
    "        )\n",
    "        code.code.lines_text[10].set_color(GREEN)\n",
    "        self.play(\n",
    "            FadeIn(plane, plane_label),\n",
    "        )\n",
    "        self.wait()\n",
    "        self.play(FadeOut(cone),FadeIn(cone_refl))\n",
    "        self.wait()\n"
   ]
  },
  {
   "cell_type": "markdown",
   "metadata": {},
   "source": [
    "### Skew"
   ]
  },
  {
   "cell_type": "code",
   "execution_count": 62,
   "metadata": {},
   "outputs": [
    {
     "name": "stderr",
     "output_type": "stream",
     "text": [
      "                                                                                          \r"
     ]
    },
    {
     "data": {
      "text/html": [
       "<video src=\"media/jupyter/SkewZ3D@2023-09-15@20-56-34.mp4\" controls autoplay loop style=\"max-width: 60%;\"  >\n",
       "      Your browser does not support the <code>video</code> element.\n",
       "    </video>"
      ],
      "text/plain": [
       "<IPython.core.display.Video object>"
      ]
     },
     "metadata": {},
     "output_type": "display_data"
    }
   ],
   "source": [
    "%%manim -ql -v WARNING SkewZ3D\n",
    "\n",
    "def skew(mobj: MObject):\n",
    "    tr = dim3.skew('z',[0,1,0])\n",
    "    mobj.apply_function(lambda x: dim3.apply(tr, x))\n",
    "\n",
    "def homotopy(x,y,z,t):\n",
    "    tr = dim3.skew('z',t*np.array([0,1,0]))\n",
    "    xp, yp, zp = dim3.apply(tr, [x,y,z])\n",
    "    return (xp, yp, zp)\n",
    "\n",
    "class SkewZ3D(ThreeDScene):\n",
    "    def construct(self):\n",
    "        self.set_camera_orientation(phi=60*DEGREES, theta=-15*DEGREES)\n",
    "        axes = ThreeDAxes()\n",
    "        X, Y, Z = RIGHT, UP, OUT\n",
    "        code = Code(\n",
    "            code=\"dim3.skew('z',s)\", \n",
    "            language='Python', \n",
    "            insert_line_no=False\n",
    "        )\n",
    "        self.add_fixed_in_frame_mobjects(code)\n",
    "        code.to_corner(UL)\n",
    "        code.code.set_color(WHITE)\n",
    "        cube = Cube(side_length=2, fill_opacity=0.8)\n",
    "        cube.shift(1*(Y+Z))\n",
    "        planes = Polyhedron(\n",
    "            vertex_coords = [\n",
    "                [-1,0,0],[1,0,0],[1,2,0],[-1,2,0],\n",
    "                [-1,0,1],[1,0,1],[1,2,1],[-1,2,1],\n",
    "                [-1,0,2],[1,0,2],[1,2,2],[-1,2,2],\n",
    "            ],\n",
    "            faces_list = [[0,1,2,3], [4,5,6,7],[8,9,10,11]]\n",
    "        )\n",
    "        z_hat = Arrow3D(\n",
    "            start = [0,0,0],\n",
    "            end = [0,0,1],\n",
    "            thickness=0.05,\n",
    "            color=GREEN\n",
    "        )\n",
    "        z_label = Text(\"'z' axis\", color=GREEN).set_shade_in_3d(True)\n",
    "        z_label.rotate(PI/2, axis=X).rotate(PI/2, axis=Z)\n",
    "        z_label.next_to([0,-2,0.5])\n",
    "        s_vec = Arrow3D(\n",
    "            start = [0,0,1],\n",
    "            end = [0,1,1],\n",
    "            thickness = 0.05,\n",
    "            color=YELLOW\n",
    "        )\n",
    "        s_label = Text(\"'s' vector\", color=YELLOW).set_shade_in_3d(True)\n",
    "        s_label.rotate(PI/2, axis=X).rotate(PI/2, axis=Z)\n",
    "        s_label.next_to([0,-2,1.2])\n",
    "        cube_skew = cube.copy()\n",
    "        cube_skew.apply_to_family(skew)\n",
    "        # self.add(axes, cube, planes, cube_skew, z_hat,s_vec, z_label, s_label)\n",
    "        self.add(axes, cube, z_hat)\n",
    "        self.wait()\n",
    "        self.play(\n",
    "            cube.animate.set_opacity(0.3),\n",
    "            FadeIn(planes)\n",
    "        )\n",
    "        self.wait()\n",
    "        self.play(\n",
    "            FadeIn(z_label),\n",
    "            Indicate(z_hat, color=GREEN),\n",
    "            Indicate(code.code.lines_text[10:13], color=GREEN),\n",
    "        )\n",
    "        self.play(\n",
    "            FadeIn(s_label),\n",
    "            Indicate(s_vec, color=YELLOW),\n",
    "            Indicate(code.code.lines_text[14], color=YELLOW),\n",
    "        )\n",
    "        code.code.lines_text[14].set_color(YELLOW)\n",
    "        self.wait()\n",
    "        self.play(Homotopy(homotopy,cube),Homotopy(homotopy,planes))\n",
    "        self.wait()\n"
   ]
  },
  {
   "cell_type": "markdown",
   "metadata": {},
   "source": [
    "### 2D transformations"
   ]
  },
  {
   "cell_type": "markdown",
   "metadata": {},
   "source": [
    "#### Translation"
   ]
  },
  {
   "cell_type": "markdown",
   "metadata": {},
   "source": [
    "#### Scale"
   ]
  },
  {
   "cell_type": "markdown",
   "metadata": {},
   "source": [
    "#### Rotation"
   ]
  },
  {
   "cell_type": "markdown",
   "metadata": {},
   "source": [
    "#### Reflection"
   ]
  },
  {
   "cell_type": "markdown",
   "metadata": {},
   "source": [
    "#### Skew"
   ]
  },
  {
   "cell_type": "code",
   "execution_count": 2,
   "metadata": {},
   "outputs": [
    {
     "name": "stderr",
     "output_type": "stream",
     "text": [
      "                                                                                          \r"
     ]
    },
    {
     "data": {
      "text/html": [
       "<video src=\"media/jupyter/SquareToCircle@2023-09-10@12-47-25.mp4\" controls autoplay loop style=\"max-width: 60%;\"  >\n",
       "      Your browser does not support the <code>video</code> element.\n",
       "    </video>"
      ],
      "text/plain": [
       "<IPython.core.display.Video object>"
      ]
     },
     "metadata": {},
     "output_type": "display_data"
    }
   ],
   "source": [
    "%%manim -qm -v WARNING SquareToCircle\n",
    "\n",
    "class SquareToCircle(Scene):\n",
    "   def construct(self):\n",
    "      square = Square()\n",
    "      circle = Circle()\n",
    "      circle.set_fill(PINK, opacity=0.5)\n",
    "      self.play(Create(square))\n",
    "      self.play(Transform(square, circle))\n",
    "      self.wait()"
   ]
  },
  {
   "cell_type": "code",
   "execution_count": null,
   "metadata": {},
   "outputs": [],
   "source": []
  }
 ],
 "metadata": {
  "kernelspec": {
   "display_name": "Python 3 (ipykernel)",
   "language": "python",
   "name": "python3"
  },
  "language_info": {
   "codemirror_mode": {
    "name": "ipython",
    "version": 3
   },
   "file_extension": ".py",
   "mimetype": "text/x-python",
   "name": "python",
   "nbconvert_exporter": "python",
   "pygments_lexer": "ipython3",
   "version": "3.9.18"
  }
 },
 "nbformat": 4,
 "nbformat_minor": 4
}
