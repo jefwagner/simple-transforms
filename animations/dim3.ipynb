{
 "cells": [
  {
   "cell_type": "code",
   "execution_count": 1,
   "metadata": {},
   "outputs": [
    {
     "data": {
      "text/html": [
       "<pre style=\"white-space:pre;overflow-x:auto;line-height:normal;font-family:Menlo,'DejaVu Sans Mono',consolas,'Courier New',monospace\">Manim Community <span style=\"color: #008000; text-decoration-color: #008000\">v0.17.3</span>\n",
       "\n",
       "</pre>\n"
      ],
      "text/plain": [
       "Manim Community \u001b[32mv0.\u001b[0m\u001b[32m17.3\u001b[0m\n",
       "\n"
      ]
     },
     "metadata": {},
     "output_type": "display_data"
    }
   ],
   "source": [
    "from manim import *"
   ]
  },
  {
   "cell_type": "code",
   "execution_count": 33,
   "metadata": {},
   "outputs": [],
   "source": [
    "from simple_transforms import dim3, dim2"
   ]
  },
  {
   "cell_type": "markdown",
   "metadata": {},
   "source": [
    "## Figures for transformations"
   ]
  },
  {
   "cell_type": "markdown",
   "metadata": {},
   "source": [
    "The main task here will be coming up with animations using MANIM that clearly demonstrate the effects of the transformation matrices created by the simple-transform python package. The main tool will be to use the `Homotopy` animation routine for MObjects. It works\n",
    "by creating a homotopy function `h` that maps a 3-point point to another point as a function of t. at t=0, the function should be the identity, and at t=1, the full function should be applied. The homotopy `h` function is then used in an MANIM scene to manipulate MObjects through an animation. Below is an example for creating and using a homotopy function for a translation.\n",
    "\n",
    "```python\n",
    "def h(x,y,z,t):\n",
    "    dx = np.array([1,1,1])\n",
    "    tr = dim3.trans(t*dx)\n",
    "    xp, yp, zp = dim3.apply(tr, [x,y,z])\n",
    "    return (xp, yp, zp)\n",
    "\n",
    "MyScene(ThreeDScene):\n",
    "    def construct(self):\n",
    "        ...\n",
    "        self.play(Homotopy(h, mobjs))\n",
    "        ...    \n",
    "\n",
    "```"
   ]
  },
  {
   "cell_type": "markdown",
   "metadata": {},
   "source": [
    "### 3D transformations"
   ]
  },
  {
   "cell_type": "code",
   "execution_count": 36,
   "metadata": {},
   "outputs": [],
   "source": [
    "def make_homotopy(trans_func):\n",
    "    def h(x,y,z,t):\n",
    "        xp, yp, zp = dim3.apply(trans_func(t), [x,y,z])\n",
    "        return (xp, yp, zp)\n",
    "    return h"
   ]
  },
  {
   "cell_type": "markdown",
   "metadata": {},
   "source": [
    "#### Translation"
   ]
  },
  {
   "cell_type": "code",
   "execution_count": 41,
   "metadata": {},
   "outputs": [
    {
     "data": {
      "text/plain": [
       "(0.0, 5.0, 3.0)"
      ]
     },
     "execution_count": 41,
     "metadata": {},
     "output_type": "execute_result"
    }
   ],
   "source": [
    "homotopy = make_homotopy(lambda t: dim3.trans(t*np.array([-1,4,2])))\n",
    "\n",
    "homotopy(1,1,1,1)"
   ]
  },
  {
   "cell_type": "code",
   "execution_count": 42,
   "metadata": {},
   "outputs": [
    {
     "name": "stderr",
     "output_type": "stream",
     "text": [
      "                                                                                          \r"
     ]
    },
    {
     "data": {
      "text/html": [
       "<video src=\"media/jupyter/Translate3D@2023-09-10@21-18-03.mp4\" controls autoplay loop style=\"max-width: 60%;\"  >\n",
       "      Your browser does not support the <code>video</code> element.\n",
       "    </video>"
      ],
      "text/plain": [
       "<IPython.core.display.Video object>"
      ]
     },
     "metadata": {},
     "output_type": "display_data"
    }
   ],
   "source": [
    "%%manim -qm -v WARNING Translate3D\n",
    "\n",
    "homotopy = make_homotopy(lambda t: dim3.trans(t*np.array([-1,4,2])))\n",
    "\n",
    "class Translate3D(ThreeDScene):\n",
    "    def construct(self):\n",
    "        self.set_camera_orientation(phi=75*DEGREES, theta=-15*DEGREES)\n",
    "        axes = ThreeDAxes()\n",
    "        X, Y, Z = RIGHT, UP, OUT\n",
    "        code = Code(\n",
    "            code=\"dim3.trans([-1,4,2])\", \n",
    "            language='Python', \n",
    "            insert_line_no=False\n",
    "        )\n",
    "        self.add_fixed_in_frame_mobjects(code)\n",
    "        code.to_corner(UL)\n",
    "        cube = Cube(side_length=1, fill_opacity=0.8)\n",
    "        cube.shift(0.5*(X+Y+Z)-2*Y-Z)\n",
    "        start = [1,-1,-1]\n",
    "        end = [0,3,1]\n",
    "        axis = Arrow3D(\n",
    "            start=start,\n",
    "            end=end,\n",
    "            thickness=0.05,\n",
    "            color=RED\n",
    "        )\n",
    "        axis_label = Text(\"[-1,4,2]\", color=RED).set_shade_in_3d(True)\n",
    "        axis_label.rotate(PI/2, axis=X).rotate(PI/2, axis=Z)\n",
    "        axis_label.next_to([0,3,-1])\n",
    "        # axis_label.rotate(PI/2, axis=Z)\n",
    "        self.add(axes, cube)\n",
    "        self.wait()\n",
    "        self.play(FadeIn(axis, axis_label))\n",
    "        self.wait()\n",
    "        # self.play(MoveAlongPath(cube, Line(start-0.5*(X+Y-Z),end-0.5*(X+Y-Z))))\n",
    "        self.play(Homotopy(homotopy, cube))\n",
    "        self.wait()"
   ]
  },
  {
   "cell_type": "code",
   "execution_count": 32,
   "metadata": {},
   "outputs": [
    {
     "name": "stderr",
     "output_type": "stream",
     "text": [
      "                                                                                          \r"
     ]
    },
    {
     "data": {
      "text/html": [
       "<video src=\"media/jupyter/Translate3D@2023-09-10@19-09-19.mp4\" controls autoplay loop style=\"max-width: 60%;\"  >\n",
       "      Your browser does not support the <code>video</code> element.\n",
       "    </video>"
      ],
      "text/plain": [
       "<IPython.core.display.Video object>"
      ]
     },
     "metadata": {},
     "output_type": "display_data"
    }
   ],
   "source": [
    "%%manim -qm -v WARNING Translate3D\n",
    "\n",
    "class Translate3D(ThreeDScene):\n",
    "    def construct(self):\n",
    "        self.set_camera_orientation(phi=75*DEGREES, theta=-15*DEGREES)\n",
    "        axes = ThreeDAxes()\n",
    "        X, Y, Z = RIGHT, UP, OUT\n",
    "        code = Code(\n",
    "            code=\"dim3.trans([-1,4,2])\", \n",
    "            language='Python', \n",
    "            insert_line_no=False\n",
    "        )\n",
    "        self.add_fixed_in_frame_mobjects(code)\n",
    "        code.to_corner(UL)\n",
    "        cube = Cube(side_length=1, fill_opacity=0.8)\n",
    "        cube.shift(0.5*(X+Y+Z)-2*Y-Z)\n",
    "        start = [1,-1,-1]\n",
    "        end = [0,3,1]\n",
    "        axis = Arrow3D(\n",
    "            start=start,\n",
    "            end=end,\n",
    "            thickness=0.05,\n",
    "            color=RED\n",
    "        )\n",
    "        axis_label = Text(\"[-1,4,2]\", color=RED).set_shade_in_3d(True)\n",
    "        axis_label.rotate(PI/2, axis=X).rotate(PI/2, axis=Z)\n",
    "        axis_label.next_to([0,3,-1])\n",
    "        # axis_label.rotate(PI/2, axis=Z)\n",
    "        self.add(axes, cube)\n",
    "        self.wait()\n",
    "        self.play(FadeIn(axis, axis_label))\n",
    "        self.wait()\n",
    "        self.play(MoveAlongPath(cube, Line(start-0.5*(X+Y-Z),end-0.5*(X+Y-Z))))\n",
    "        self.wait()"
   ]
  },
  {
   "cell_type": "markdown",
   "metadata": {},
   "source": [
    "#### Scale"
   ]
  },
  {
   "cell_type": "markdown",
   "metadata": {},
   "source": [
    "#### Rotation"
   ]
  },
  {
   "cell_type": "code",
   "execution_count": 26,
   "metadata": {},
   "outputs": [
    {
     "name": "stderr",
     "output_type": "stream",
     "text": [
      "                                                                                          \r"
     ]
    },
    {
     "data": {
      "text/html": [
       "<video src=\"media/jupyter/RotateX3D@2023-09-10@18-16-49.mp4\" controls autoplay loop style=\"max-width: 60%;\"  >\n",
       "      Your browser does not support the <code>video</code> element.\n",
       "    </video>"
      ],
      "text/plain": [
       "<IPython.core.display.Video object>"
      ]
     },
     "metadata": {},
     "output_type": "display_data"
    }
   ],
   "source": [
    "%%manim -qm -v WARNING RotateX3D\n",
    "\n",
    "class RotateX3D(ThreeDScene):\n",
    "    def construct(self):\n",
    "        self.set_camera_orientation(phi=60*DEGREES, theta=15*DEGREES)\n",
    "        axes = ThreeDAxes()\n",
    "        X, Y, Z = RIGHT, UP, OUT\n",
    "        code = Code(\n",
    "            code=\"dim3.rot('x',np.pi/2)\", \n",
    "            language='Python', \n",
    "            insert_line_no=False\n",
    "        )\n",
    "        self.add_fixed_in_frame_mobjects(code)\n",
    "        code.to_corner(UL)\n",
    "        cube = Cube(side_length=2, fill_opacity=0.8)\n",
    "        cube.shift(1*(X+Y+Z))\n",
    "        axis = Arrow3D(\n",
    "            start=[0,0,0],\n",
    "            end=[2.5,0,0],\n",
    "            thickness=0.05,\n",
    "            color=GREEN\n",
    "        )\n",
    "        axis_label = Text(\"'x' axis\", color=GREEN).set_shade_in_3d(True)\n",
    "        axis_label.rotate(PI/2, axis=X).rotate(PI/2, axis=Z)\n",
    "        axis_label.next_to([3,0,0])\n",
    "        # axis_label.rotate(PI/2, axis=Z)\n",
    "        self.add(axes, cube)\n",
    "        self.wait()\n",
    "        self.play(FadeIn(axis, axis_label))\n",
    "        self.wait()\n",
    "        self.play(Rotate(cube, PI/2, about_point=ORIGIN, axis=X))\n",
    "        self.wait()\n"
   ]
  },
  {
   "cell_type": "code",
   "execution_count": 24,
   "metadata": {},
   "outputs": [
    {
     "name": "stderr",
     "output_type": "stream",
     "text": [
      "                                                                                          \r"
     ]
    },
    {
     "data": {
      "text/html": [
       "<video src=\"media/jupyter/RotateZ3D@2023-09-10@18-06-28.mp4\" controls autoplay loop style=\"max-width: 60%;\"  >\n",
       "      Your browser does not support the <code>video</code> element.\n",
       "    </video>"
      ],
      "text/plain": [
       "<IPython.core.display.Video object>"
      ]
     },
     "metadata": {},
     "output_type": "display_data"
    }
   ],
   "source": [
    "%%manim -qm -v WARNING RotateZ3D\n",
    "\n",
    "class RotateZ3D(ThreeDScene):\n",
    "    def construct(self):\n",
    "        self.set_camera_orientation(phi=60*DEGREES, theta=15*DEGREES)\n",
    "        axes = ThreeDAxes()\n",
    "        X, Y, Z = RIGHT, UP, OUT\n",
    "        code = Code(\n",
    "            code=\"dim3.rot('z',np.pi/2)\", \n",
    "            language='Python', \n",
    "            insert_line_no=False\n",
    "        )\n",
    "        self.add_fixed_in_frame_mobjects(code)\n",
    "        code.to_corner(UL)\n",
    "        cube = Cube(side_length=2, fill_opacity=0.8)\n",
    "        cube.shift(1*(X-Y+Z))\n",
    "        axis = Arrow3D(\n",
    "            start=[0,0,0],\n",
    "            end=[0,0,2.5],\n",
    "            thickness=0.05,\n",
    "            color=GREEN\n",
    "        )\n",
    "        axis_label = Text(\"'z' axis\", color=GREEN).set_shade_in_3d(True)\n",
    "        axis_label.rotate(PI/2, axis=X).rotate(PI/2, axis=Z)\n",
    "        axis_label.next_to([0,0,3])\n",
    "        # axis_label.rotate(PI/2, axis=Z)\n",
    "        self.add(axes, cube)\n",
    "        self.wait()\n",
    "        self.play(FadeIn(axis, axis_label))\n",
    "        self.wait()\n",
    "        self.play(Rotate(cube, PI/2, about_point=ORIGIN, axis=Z))\n",
    "        self.wait()\n"
   ]
  },
  {
   "cell_type": "code",
   "execution_count": 29,
   "metadata": {},
   "outputs": [
    {
     "name": "stderr",
     "output_type": "stream",
     "text": [
      "                                                                                          \r"
     ]
    },
    {
     "data": {
      "text/html": [
       "<video src=\"media/jupyter/RotateAA3D@2023-09-10@18-37-00.mp4\" controls autoplay loop style=\"max-width: 60%;\"  >\n",
       "      Your browser does not support the <code>video</code> element.\n",
       "    </video>"
      ],
      "text/plain": [
       "<IPython.core.display.Video object>"
      ]
     },
     "metadata": {},
     "output_type": "display_data"
    }
   ],
   "source": [
    "%%manim -qm -v WARNING RotateAA3D\n",
    "\n",
    "class RotateAA3D(ThreeDScene):\n",
    "    def construct(self):\n",
    "        self.set_camera_orientation(phi=60*DEGREES, theta=-15*DEGREES)\n",
    "        axes = ThreeDAxes()\n",
    "        X, Y, Z = RIGHT, UP, OUT\n",
    "        code = Code(\n",
    "            code=\"dim3.rot([1,1,1],2*np.pi/3)\", \n",
    "            language='Python', \n",
    "            insert_line_no=False\n",
    "        )\n",
    "        self.add_fixed_in_frame_mobjects(code)\n",
    "        code.to_corner(UL)\n",
    "        cube = Cube(side_length=2, fill_opacity=0.8)\n",
    "        cube.shift(1*(X+Y+Z))\n",
    "        axis = Arrow3D(\n",
    "            start=[0,0,0],\n",
    "            end=[2.5,2.5,2.5],\n",
    "            thickness=0.05,\n",
    "            color=GREEN\n",
    "        )\n",
    "        axis_label = Text(\"[1,1,1]\", color=GREEN).set_shade_in_3d(True)\n",
    "        axis_label.rotate(PI/2, axis=X).rotate(PI/2, axis=Z)\n",
    "        axis_label.next_to([0,3,3])\n",
    "        # axis_label.rotate(PI/2, axis=Z)\n",
    "        self.add(axes, cube)\n",
    "        self.wait()\n",
    "        self.play(FadeIn(axis, axis_label))\n",
    "        self.wait()\n",
    "        self.play(Rotate(cube, 2*PI/3, about_point=ORIGIN, axis=[1,1,1]))\n",
    "        self.wait()\n"
   ]
  },
  {
   "cell_type": "markdown",
   "metadata": {
    "jp-MarkdownHeadingCollapsed": true
   },
   "source": [
    "#### Reflection"
   ]
  },
  {
   "cell_type": "markdown",
   "metadata": {},
   "source": [
    "#### Skew"
   ]
  },
  {
   "cell_type": "markdown",
   "metadata": {},
   "source": [
    "### 2D transformations"
   ]
  },
  {
   "cell_type": "markdown",
   "metadata": {},
   "source": [
    "#### Translation"
   ]
  },
  {
   "cell_type": "markdown",
   "metadata": {},
   "source": [
    "#### Scale"
   ]
  },
  {
   "cell_type": "markdown",
   "metadata": {},
   "source": [
    "#### Rotation"
   ]
  },
  {
   "cell_type": "markdown",
   "metadata": {},
   "source": [
    "#### Reflection"
   ]
  },
  {
   "cell_type": "markdown",
   "metadata": {},
   "source": [
    "#### Skew"
   ]
  },
  {
   "cell_type": "code",
   "execution_count": 2,
   "metadata": {},
   "outputs": [
    {
     "name": "stderr",
     "output_type": "stream",
     "text": [
      "                                                                                          \r"
     ]
    },
    {
     "data": {
      "text/html": [
       "<video src=\"media/jupyter/SquareToCircle@2023-09-10@12-47-25.mp4\" controls autoplay loop style=\"max-width: 60%;\"  >\n",
       "      Your browser does not support the <code>video</code> element.\n",
       "    </video>"
      ],
      "text/plain": [
       "<IPython.core.display.Video object>"
      ]
     },
     "metadata": {},
     "output_type": "display_data"
    }
   ],
   "source": [
    "%%manim -qm -v WARNING SquareToCircle\n",
    "\n",
    "class SquareToCircle(Scene):\n",
    "   def construct(self):\n",
    "      square = Square()\n",
    "      circle = Circle()\n",
    "      circle.set_fill(PINK, opacity=0.5)\n",
    "      self.play(Create(square))\n",
    "      self.play(Transform(square, circle))\n",
    "      self.wait()"
   ]
  },
  {
   "cell_type": "code",
   "execution_count": null,
   "metadata": {},
   "outputs": [],
   "source": []
  }
 ],
 "metadata": {
  "kernelspec": {
   "display_name": "Python 3 (ipykernel)",
   "language": "python",
   "name": "python3"
  },
  "language_info": {
   "codemirror_mode": {
    "name": "ipython",
    "version": 3
   },
   "file_extension": ".py",
   "mimetype": "text/x-python",
   "name": "python",
   "nbconvert_exporter": "python",
   "pygments_lexer": "ipython3",
   "version": "3.9.18"
  }
 },
 "nbformat": 4,
 "nbformat_minor": 4
}
